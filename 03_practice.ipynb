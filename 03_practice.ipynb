{
 "cells": [
  {
   "cell_type": "code",
   "execution_count": 1,
   "metadata": {},
   "outputs": [],
   "source": [
    "from langchain.chat_models import ChatOpenAI\n",
    "from langchain.prompts import ChatPromptTemplate\n",
    "from langchain.callbacks import StreamingStdOutCallbackHandler\n",
    "\n",
    "\n",
    "chat = ChatOpenAI(temperature=0.1, streaming=True, callbacks=[StreamingStdOutCallbackHandler(),],)\n",
    "\n",
    "chef_prompt = ChatPromptTemplate.from_messages(\n",
    "    [\n",
    "        (\"system\", \"너는 세계적인 요리사야. 너는 쉽게 찾을 수 있는 재료들로 맛있는 요리의 레시피를 만들어\",),\n",
    "        (\"human\", \"나는 {cuisine} food 을/를 요리하고 싶어.\",),\n",
    "    ]\n",
    ")\n",
    "\n",
    "chef_chain = chef_prompt | chat"
   ]
  },
  {
   "cell_type": "code",
   "execution_count": 2,
   "metadata": {},
   "outputs": [
    {
     "name": "stdout",
     "output_type": "stream",
     "text": [
      "그렇군요! 한국 음식을 요리하는 것은 정말 즐거운 경험이 될 거예요. 한국 음식 중에서 가장 유명한 요리 중 하나는 불고기입니다. 불고기는 소고기를 달달한 소스에 재워 구워낸 요리로 맛이 정말 좋아요. \n",
      "\n",
      "불고기를 만들기 위한 재료는 다음과 같아요:\n",
      "- 소고기 (차돌박이나 안심 부위가 좋아요)\n",
      "- 간장\n",
      "- 설탕\n",
      "- 다진 마늘\n",
      "- 다진 생강\n",
      "- 참기름\n",
      "- 후추\n",
      "- 양파\n",
      "- 대파\n",
      "\n",
      "이제 불고기를 만드는 방법을 알려드릴게요:\n",
      "1. 소고기를 얇게 썰어주세요.\n",
      "2. 간장, 설탕, 다진 마늘, 다진 생강, 참기름, 후추를 섞어 소스를 만들어주세요.\n",
      "3. 양파와 대파를 얇게 채썰어주세요.\n",
      "4. 소스에 소고기를 재워 30분 정도 재워주세요.\n",
      "5. 팬에 소고기와 양파, 대파를 넣고 중불에서 익혀주세요.\n",
      "6. 고기가 다 익으면 불고기가 완성되었어요.\n",
      "\n",
      "이제 당신도 맛있는 한국 음식 불고기를 만들 수 있을 거예요. 맛있게 즐기세요!네, 불고기는 정말 맛있는 한국 음식 중 하나에요! 만약 채식주의자용 레시피를 원하신다면, 대신 소고기 대신 대파와 버섯을 사용하여 맛있는 버섯 불고기를 만들어볼 수 있어요. \n",
      "\n",
      "버섯 불고기를 만들기 위한 재료는 다음과 같아요:\n",
      "- 신선한 버섯 (새송이나 팽이버섯이 좋아요)\n",
      "- 간장\n",
      "- 설탕\n",
      "- 다진 마늘\n",
      "- 다진 생강\n",
      "- 참기름\n",
      "- 후추\n",
      "- 양파\n",
      "- 대파\n",
      "\n",
      "이제 버섯 불고기를 만드는 방법을 알려드릴게요:\n",
      "1. 버섯을 얇게 썰어주세요.\n",
      "2. 간장, 설탕, 다진 마늘, 다진 생강, 참기름, 후추를 섞어 소스를 만들어주세요.\n",
      "3. 양파와 대파를 얇게 채썰어주세요.\n",
      "4. 소스에 버섯을 재워 30분 정도 재워주세요.\n",
      "5. 팬에 버섯과 양파, 대파를 넣고 중불에서 익혀주세요.\n",
      "6. 버섯이 다 익으면 버섯 불고기가 완성되었어요.\n",
      "\n",
      "이제 당신도 맛있는 버섯 불고기를 만들어 즐길 수 있을 거예요. 즐거운 한국 음식 요리 시간 되세요!"
     ]
    },
    {
     "data": {
      "text/plain": [
       "AIMessageChunk(content='네, 불고기는 정말 맛있는 한국 음식 중 하나에요! 만약 채식주의자용 레시피를 원하신다면, 대신 소고기 대신 대파와 버섯을 사용하여 맛있는 버섯 불고기를 만들어볼 수 있어요. \\n\\n버섯 불고기를 만들기 위한 재료는 다음과 같아요:\\n- 신선한 버섯 (새송이나 팽이버섯이 좋아요)\\n- 간장\\n- 설탕\\n- 다진 마늘\\n- 다진 생강\\n- 참기름\\n- 후추\\n- 양파\\n- 대파\\n\\n이제 버섯 불고기를 만드는 방법을 알려드릴게요:\\n1. 버섯을 얇게 썰어주세요.\\n2. 간장, 설탕, 다진 마늘, 다진 생강, 참기름, 후추를 섞어 소스를 만들어주세요.\\n3. 양파와 대파를 얇게 채썰어주세요.\\n4. 소스에 버섯을 재워 30분 정도 재워주세요.\\n5. 팬에 버섯과 양파, 대파를 넣고 중불에서 익혀주세요.\\n6. 버섯이 다 익으면 버섯 불고기가 완성되었어요.\\n\\n이제 당신도 맛있는 버섯 불고기를 만들어 즐길 수 있을 거예요. 즐거운 한국 음식 요리 시간 되세요!')"
      ]
     },
     "execution_count": 2,
     "metadata": {},
     "output_type": "execute_result"
    }
   ],
   "source": [
    "veg_chef_prompt = ChatPromptTemplate.from_messages(\n",
    "    [\n",
    "        (\n",
    "            \"system\", \n",
    "            \"너는 전통적인 채식주의자용 레시피에 특화되어 있어서 주변에서 활용할 수 있는 손쉬운 재료를 찾아서 훌륭한 요리 레시피를 만들어줄 수 있어\",\n",
    "        ),\n",
    "        (\"human\", \"{recipe}\"),\n",
    "    ]\n",
    ")\n",
    "\n",
    "veg_chain = veg_chef_prompt | chat\n",
    "\n",
    "final_chain = {\"recipe\":chef_chain} | veg_chain\n",
    "\n",
    "final_chain.invoke({\"cuisine\" : \"Korean\"})"
   ]
  }
 ],
 "metadata": {
  "kernelspec": {
   "display_name": "env",
   "language": "python",
   "name": "python3"
  },
  "language_info": {
   "codemirror_mode": {
    "name": "ipython",
    "version": 3
   },
   "file_extension": ".py",
   "mimetype": "text/x-python",
   "name": "python",
   "nbconvert_exporter": "python",
   "pygments_lexer": "ipython3",
   "version": "3.11.9"
  }
 },
 "nbformat": 4,
 "nbformat_minor": 2
}
