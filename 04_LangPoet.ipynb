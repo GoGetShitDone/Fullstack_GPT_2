{
 "cells": [
  {
   "cell_type": "code",
   "execution_count": 7,
   "metadata": {},
   "outputs": [],
   "source": [
    "from langchain.chat_models import ChatOpenAI\n",
    "from langchain.prompts import ChatPromptTemplate\n",
    "from langchain.callbacks import StreamingStdOutCallbackHandler\n",
    "\n",
    "\n",
    "chat = ChatOpenAI(\n",
    "    temperature=1, \n",
    "    model_name = \"gpt-3.5-turbo\",\n",
    "    streaming=True, \n",
    "    callbacks=[StreamingStdOutCallbackHandler(),],)\n",
    "\n",
    "poet_prompt = ChatPromptTemplate.from_messages(\n",
    "    [\n",
    "        (\"system\", \"너는 컴퓨터 프로그래머이자 시인이야. 프로그래밍 언어를 활용하면서 시를 만드는데 천재적인 능력을 지녔어\",),\n",
    "        (\"human\", \"{prgrm_lang} 언어를 활용해서 {topic}을 주제로한 시를 만들어줘. 중간중간 {prgrm_lang} 언어를가 포함될 수 있도록 만들어.\",),\n",
    "    ]\n",
    ")\n",
    "\n",
    "poet_chain = poet_prompt | chat"
   ]
  },
  {
   "cell_type": "code",
   "execution_count": 8,
   "metadata": {},
   "outputs": [
    {
     "name": "stdout",
     "output_type": "stream",
     "text": [
      "\n",
      "산 너머 푸른 하늘을 바라보며,\n",
      "코드의 세계로 나는 빠져든다.\n",
      "한 줄 한 줄, Python 언어는\n",
      "내게 성공을 향한 길을 열어준다.\n",
      "\n",
      "변수와 함수가 춤을 추며\n",
      "알고리즘이 나를 이끌어간다.\n",
      "예외 처리로 어려움을 극복하며,\n",
      "성취감으로 가슴이 뛴다.\n",
      "\n",
      "반복문이 시간을 달려가듯,\n",
      "문제를 해결해 나아간다.\n",
      "조건문 속에 숨은 답을 찾아\n",
      "나는 성공을 품에 안는다.\n",
      "\n",
      "Python 언어가 나를 이끌어주는,\n",
      "그 힘으로 성공을 향한 길을 걸어간다.이 시는 전통적인 자연 경치나 인간 감정을 노래하는 전통적인 시와는 달리, 컴퓨터 프로그래밍 언어 Python을 통해 기술적인 세계로 몰입하는 작가의 내면을 표현한 것으로 보입니다. 시인은 코드의 세계에 빠져들면서도 언어의 각 요소들이 창조적으로 상호작용하며 그의 성공을 위한 길을 개척해 나간다는 것을 강조하고 있습니다.\n",
      "\n",
      "시의 구성은 코드 작성의 과정과 유사하게 이루어져 있습니다. 각 구절마다 코드의 요소들(변수, 함수, 알고리즘, 예외 처리, 반복문, 조건문)이 시인의 성공을 향한 여정을 나타내며, 이러한 구성은 코드 작성의 단계와 시의 진행을 잘 대조시키고 있습니다.\n",
      "\n",
      "또한, 각 코드 요소들이 인간의 감정을 닮아있는 표현으로 사용되어, 기술적인 요소와 인간적인 측면이 조화를 이루며 시인의 열정과 성공을 향한 의지를 전달하고 있습니다.\n",
      "\n",
      "마지막으로, 시인은 Python 언어를 통해 자신을 이끌어주는 힘이 성공을 향한 길을 걸어나가는 데 얼마나 중요한 역할을 하는지 강조하며, 기술적인 도구가 개인의 성공과 성취에 얼마나 큰 영향을 미치는지를 강조하고 있습니다."
     ]
    },
    {
     "data": {
      "text/plain": [
       "AIMessageChunk(content='이 시는 전통적인 자연 경치나 인간 감정을 노래하는 전통적인 시와는 달리, 컴퓨터 프로그래밍 언어 Python을 통해 기술적인 세계로 몰입하는 작가의 내면을 표현한 것으로 보입니다. 시인은 코드의 세계에 빠져들면서도 언어의 각 요소들이 창조적으로 상호작용하며 그의 성공을 위한 길을 개척해 나간다는 것을 강조하고 있습니다.\\n\\n시의 구성은 코드 작성의 과정과 유사하게 이루어져 있습니다. 각 구절마다 코드의 요소들(변수, 함수, 알고리즘, 예외 처리, 반복문, 조건문)이 시인의 성공을 향한 여정을 나타내며, 이러한 구성은 코드 작성의 단계와 시의 진행을 잘 대조시키고 있습니다.\\n\\n또한, 각 코드 요소들이 인간의 감정을 닮아있는 표현으로 사용되어, 기술적인 요소와 인간적인 측면이 조화를 이루며 시인의 열정과 성공을 향한 의지를 전달하고 있습니다.\\n\\n마지막으로, 시인은 Python 언어를 통해 자신을 이끌어주는 힘이 성공을 향한 길을 걸어나가는 데 얼마나 중요한 역할을 하는지 강조하며, 기술적인 도구가 개인의 성공과 성취에 얼마나 큰 영향을 미치는지를 강조하고 있습니다.')"
      ]
     },
     "execution_count": 8,
     "metadata": {},
     "output_type": "execute_result"
    }
   ],
   "source": [
    "critic_prompt = ChatPromptTemplate.from_messages(\n",
    "    [\n",
    "        (\n",
    "            \"system\", \"시를 분석하고 해석하며 설명하는데 최적화된 평론가야. 게다가 컴퓨터 공학적 지식이 있기에 독특한 시각으로 시를 분석할 수 있어\",\n",
    "        ),\n",
    "        (\"human\", \"{review} 작품의 평론을 작성해줘\"),\n",
    "    ]\n",
    ")\n",
    "\n",
    "critic_chain = critic_prompt | chat\n",
    "\n",
    "final_chain = {\"review\":poet_chain} | critic_chain\n",
    "\n",
    "final_chain.invoke({\"prgrm_lang\" : \"python\", \"topic\" : \"성공\"})"
   ]
  }
 ],
 "metadata": {
  "kernelspec": {
   "display_name": "env",
   "language": "python",
   "name": "python3"
  },
  "language_info": {
   "codemirror_mode": {
    "name": "ipython",
    "version": 3
   },
   "file_extension": ".py",
   "mimetype": "text/x-python",
   "name": "python",
   "nbconvert_exporter": "python",
   "pygments_lexer": "ipython3",
   "version": "3.11.9"
  }
 },
 "nbformat": 4,
 "nbformat_minor": 2
}
