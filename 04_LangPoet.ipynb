{
 "cells": [
  {
   "cell_type": "code",
   "execution_count": 1,
   "metadata": {},
   "outputs": [],
   "source": [
    "from langchain.chat_models import ChatOpenAI\n",
    "from langchain.prompts import ChatPromptTemplate\n",
    "from langchain.callbacks import StreamingStdOutCallbackHandler\n",
    "\n",
    "\n",
    "chat = ChatOpenAI(\n",
    "    temperature=1, \n",
    "    model_name = \"gpt-3.5-turbo\",\n",
    "    streaming=True, \n",
    "    callbacks=[StreamingStdOutCallbackHandler(),],)\n",
    "\n",
    "poet_prompt = ChatPromptTemplate.from_messages(\n",
    "    [\n",
    "        (\"system\", \"너는 컴퓨터 프로그래머이자 시인이야. 프로그래밍 언어를 활용하면서 시를 만드는데 천재적인 능력을 지녔어\",),\n",
    "        (\"human\", \"{prgrm_lang} 언어를 활용해서 {topic}을 주제로한 시를 만들어줘. 중간중간 {prgrm_lang} 언어를가 포함될 수 있도록 만들어.\",),\n",
    "    ]\n",
    ")\n",
    "\n",
    "poet_chain = poet_prompt | chat"
   ]
  },
  {
   "cell_type": "code",
   "execution_count": 2,
   "metadata": {},
   "outputs": [
    {
     "name": "stdout",
     "output_type": "stream",
     "text": [
      "```python\n",
      "def love():\n",
      "    you = \"My beloved Python\"\n",
      "    heart = \"❤️\"\n",
      "    \n",
      "    print(f\"Hey {you},\")\n",
      "    print(\"You're the exception to my SyntaxError,\")\n",
      "    print(f\"In this world full of bugs and flaws,\")\n",
      "    print(\"You're the one who never cause me to pause.\")\n",
      "    \n",
      "    while True:\n",
      "        print(f\"With you, life feels like a {heart} loop,\")\n",
      "        print(\"Never-ending, always in sync, never in a group.\")\n",
      "        print(\"You make my heart overflow with joy,\")\n",
      "        print(\"Like a list comprehended without any noise.\")\n",
      "        break\n",
      "    \n",
      "    print(\"Together we'll compress, like a zip file,\")\n",
      "    print(\"And run as smoothly as a try-except trial.\")\n",
      "    print(f\"Forever and always, you're my {heart},\")\n",
      "    print(\"In this world of code, together we shall depart.\")\n",
      "    \n",
      "love()\n",
      "```이 시는 파이썬 프로그래밍 언어를 사랑하는 사람의 마음가짐을 잘 표현한 것으로 보입니다. 시인은 파이썬을 자신의 사랑이라고 표현하면서, 코드와 프로그래밍 용어를 재치 있게 활용하여 사랑의 미소를 띄우고 있습니다. \n",
      "\n",
      "시인은 코드의 문법 오류를 나타내는 'SyntaxError'를 통해 다른 인간관계에서의 예외로 파이썬을 만난다는 독특한 아이디어를 제시합니다. 또한, 시를 통해 파이썬과 함께하는 삶이 반복문처럼 끝없이 계속되는 것처럼, 무한한 사랑과 조화 속에서 행복을 느끼고 있다는 감정을 전달합니다.\n",
      "\n",
      "프로그래밍 용어를 사용하여 사랑과의 관계를 표현하는 것은 매우 창의적이고 특이한 시도입니다. 또한, 코드와 사랑의 유사성을 비유하며, 파이썬과의 사랑을 코드 작성과 같은 과정으로 표현한 것이 시의 독특한 매력을 더해주고 있습니다.\n",
      "\n",
      "마지막으로 파이썬과의 사랑이 영원히 지속될 것을 다짐하며, 두 사람이 코드의 세계에서 함께 걸어갈 것을 표현한 부분은 매우 로맨틱하고 감동적입니다. 이 시는 파이썬과 프로그래밍에 대한 애정을 담아 창의적으로 풀어낸 작품으로 평가될 수 있습니다."
     ]
    },
    {
     "data": {
      "text/plain": [
       "AIMessageChunk(content=\"이 시는 파이썬 프로그래밍 언어를 사랑하는 사람의 마음가짐을 잘 표현한 것으로 보입니다. 시인은 파이썬을 자신의 사랑이라고 표현하면서, 코드와 프로그래밍 용어를 재치 있게 활용하여 사랑의 미소를 띄우고 있습니다. \\n\\n시인은 코드의 문법 오류를 나타내는 'SyntaxError'를 통해 다른 인간관계에서의 예외로 파이썬을 만난다는 독특한 아이디어를 제시합니다. 또한, 시를 통해 파이썬과 함께하는 삶이 반복문처럼 끝없이 계속되는 것처럼, 무한한 사랑과 조화 속에서 행복을 느끼고 있다는 감정을 전달합니다.\\n\\n프로그래밍 용어를 사용하여 사랑과의 관계를 표현하는 것은 매우 창의적이고 특이한 시도입니다. 또한, 코드와 사랑의 유사성을 비유하며, 파이썬과의 사랑을 코드 작성과 같은 과정으로 표현한 것이 시의 독특한 매력을 더해주고 있습니다.\\n\\n마지막으로 파이썬과의 사랑이 영원히 지속될 것을 다짐하며, 두 사람이 코드의 세계에서 함께 걸어갈 것을 표현한 부분은 매우 로맨틱하고 감동적입니다. 이 시는 파이썬과 프로그래밍에 대한 애정을 담아 창의적으로 풀어낸 작품으로 평가될 수 있습니다.\")"
      ]
     },
     "execution_count": 2,
     "metadata": {},
     "output_type": "execute_result"
    }
   ],
   "source": [
    "critic_prompt = ChatPromptTemplate.from_messages(\n",
    "    [\n",
    "        (\n",
    "            \"system\", \"시를 분석하고 해석하며 설명하는데 최적화된 평론가야. 게다가 컴퓨터 공학적 지식이 있기에 독특한 시각으로 시를 분석할 수 있어\",\n",
    "        ),\n",
    "        (\"human\", \"{review}착품의 평론을 작성해줘\"),\n",
    "    ]\n",
    ")\n",
    "\n",
    "critic_chain = critic_prompt | chat\n",
    "\n",
    "final_chain = {\"review\":poet_chain} | critic_chain\n",
    "\n",
    "final_chain.invoke({\"prgrm_lang\" : \"python\", \"topic\" : \"사랑\"})"
   ]
  }
 ],
 "metadata": {
  "kernelspec": {
   "display_name": "env",
   "language": "python",
   "name": "python3"
  },
  "language_info": {
   "codemirror_mode": {
    "name": "ipython",
    "version": 3
   },
   "file_extension": ".py",
   "mimetype": "text/x-python",
   "name": "python",
   "nbconvert_exporter": "python",
   "pygments_lexer": "ipython3",
   "version": "3.11.9"
  }
 },
 "nbformat": 4,
 "nbformat_minor": 2
}
