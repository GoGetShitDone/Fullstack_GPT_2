{
 "cells": [
  {
   "cell_type": "code",
   "execution_count": 1,
   "metadata": {},
   "outputs": [
    {
     "data": {
      "text/plain": [
       "[Document(page_content=\"chapter_one.md\\n\\n2024-08-27\\n\\nPart 1, Chapter 1\\n\\nPart One\\n\\n1 It was a bright cold day in April, and the clocks were striking thirteen. Winston Smith, his chin nuzzled into\\n\\nhis breast in an effort to escape the vile wind, slipped quickly through the glass doors of Victory Mansions,\\n\\nthough not quickly enough to prevent a swirl of gritty dust from entering along with him.\\n\\nThe hallway smelt of boiled cabbage and old rag mats. At one end of it a coloured poster, too large for\\n\\nindoor display, had been tacked to the wall. It depicted simply an enormous face, more than a metre wide:\\n\\nthe face of a man of about forty-five, with a heavy black moustache and ruggedly handsome features.\\n\\nWinston made for the stairs. It was no use trying the lift. Even at the best of times it was seldom working,\\n\\nand at present the electric current was cut off during daylight hours. It was part of the economy drive in\\n\\npreparation for Hate Week. The flat was seven flights up, and Winston, who was thirty-nine and had a\\n\\nvaricose ulcer above his right ankle, went slowly, resting several times on the way. On each landing,\\n\\nopposite the lift-shaft, the poster with the enormous face gazed from the wall. It was one of those pictures\\n\\nwhich are so contrived that the eyes follow you about when you move. BIG BROTHER IS WATCHING YOU,\\n\\nthe caption beneath it ran.\\n\\nInside the flat a fruity voice was reading out a list of figures which had something to do with the production\\n\\nof pig-iron. The voice came from an oblong metal plaque like a dulled mirror which formed part of the\\n\\nsurface of the right-hand wall. Winston turned a switch and the voice sank somewhat, though the words\\n\\nwere still distinguishable. The instrument (the telescreen, it was called) could be dimmed, but there was no\\n\\nway of shutting it off completely. He moved over to the window: a smallish, frail figure, the meagreness of\\n\\nhis body merely emphasized by the blue overalls which were the uniform of the party. His hair was very fair,\\n\\nhis face naturally sanguine, his skin roughened by coarse soap and blunt razor blades and the cold of the\\n\\nwinter that had just ended.\\n\\nOutside, even through the shut window-pane, the world looked cold. Down in the street little eddies of wind\\n\\nwere whirling dust and torn paper into spirals, and though the sun was shining and the sky a harsh blue,\\n\\nthere seemed to be no colour in anything, except the posters that were plastered everywhere. The\\n\\nblackmoustachio'd face gazed down from every commanding corner. There was one on the house-front\\n\\nimmediately opposite. BIG BROTHER IS WATCHING YOU, the caption said, while the dark eyes looked deep\\n\\ninto Winston's own. Down at streetlevel another poster, torn at one corner, flapped fitfully in the wind,\\n\\nalternately covering and uncovering the single word INGSOC. In the far distance a helicopter skimmed down\\n\\nbetween the roofs, hovered for an instant like a bluebottle, and darted away again with a curving flight. It\\n\\nwas the police patrol, snooping into people's windows. The patrols did not matter, however. Only the\\n\\nThought Police mattered.\\n\\nBehind Winston's back the voice from the telescreen was still babbling away about pig-iron and the\\n\\noverfulfilment of the Ninth Three-Year Plan. The telescreen received and transmitted simultaneously. Any\\n\\nsound that Winston made, above the level of a very low whisper, would be picked up by it, moreover, so\\n\\nlong as he remained within the field of vision which the metal plaque commanded, he could be seen as well\\n\\nas heard. There was of course no way of knowing whether you were being watched at any given moment.\\n\\nHow often, or on what system, the Thought Police plugged in on any individual wire was guesswork. It was\\n\\neven conceivable that they watched everybody all the time. But at any rate they could plug in your wire\\n\\nwhenever they wanted to. You had to live -- did live, from habit that became instinct -- in the assumption\\n\\nthat every sound you made was overheard, and, except in darkness, every movement scrutinized.\\n\\n1 / 9\\n\\nchapter_one.md\\n\\n2024-08-27\\n\\nWinston kept his back turned to the telescreen. It was safer, though, as he well knew, even a back can be\\n\\nrevealing. A kilometre away the Ministry of Truth, his place of work, towered vast and white above the grimy\\n\\nlandscape. This, he thought with a sort of vague distaste -- this was London, chief city of Airstrip One, itself\\n\\nthe third most populous of the provinces of Oceania. He tried to squeeze out some childhood memory that\\n\\nshould tell him whether London had always been quite like this. Were there always these vistas of rotting\\n\\nnineteenth-century houses, their sides shored up with baulks of timber, their windows patched with\\n\\ncardboard and their roofs with corrugated iron, their crazy garden walls sagging in all directions? And the\\n\\nbombed sites where the plaster dust swirled in the air and the willow-herb straggled over the heaps of\\n\\nrubble; and the places where the bombs had cleared a larger patch and there had sprung up sordid\\n\\ncolonies of wooden dwellings like chicken-houses? But it was no use, he could not remember: nothing\\n\\nremained of his childhood except a series of bright-lit tableaux occurring against no background and mostly\\n\\nunintelligible.\\n\\nThe Ministry of Truth -- Minitrue, in Newspeak -- was startlingly different from any other object in sight. It\\n\\nwas an enormous pyramidal structure of glittering white concrete, soaring up, terrace after terrace, 300\\n\\nmetres into the air. From where Winston stood it was just possible to read, picked out on its white face in\\n\\nelegant lettering, the three slogans of the Party:\\n\\nWAR IS PEACE\\n\\nFREEDOM IS SLAVERY\\n\\nIGNORANCE IS STRENGTH\\n\\nThe Ministry of Truth contained, it was said, three thousand rooms above ground level, and corresponding\\n\\nramifications below. Scattered about London there were just three other buildings of similar appearance and\\n\\nsize. So completely did they dwarf the surrounding architecture that from the roof of Victory Mansions you\\n\\ncould see all four of them simultaneously. They were the homes of the four Ministries between which the\\n\\nentire apparatus of government was divided. The Ministry of Truth, which concerned itself with news,\\n\\nentertainment, education, and the fine arts. The Ministry of Peace, which concerned itself with war. The\\n\\nMinistry of Love, which maintained law and order. And the Ministry of Plenty, which was responsible for\\n\\neconomic affairs. Their names, in Newspeak: Minitrue, Minipax, Miniluv, and Miniplenty.\\n\\nThe Ministry of Love was the really frightening one. There were no windows in it at all. Winston had never\\n\\nbeen inside the Ministry of Love, nor within half a kilometre of it. It was a place impossible to enter except\\n\\non official business, and then only by penetrating through a maze of barbed-wire entanglements, steel\\n\\ndoors, and hidden machine-gun nests. Even the streets leading up to its outer barriers were roamed by\\n\\ngorilla-faced guards in black uniforms, armed with jointed truncheons.\\n\\nWinston turned round abruptly. He had set his features into the expression of quiet optimism which it was\\n\\nadvisable to wear when facing the telescreen. He crossed the room into the tiny kitchen. By leaving the\\n\\nMinistry at this time of day he had sacrificed his lunch in the canteen, and he was aware that there was no\\n\\nfood in the kitchen except a hunk of dark-coloured bread which had got to be saved for tomorrow's\\n\\nbreakfast. He took down from the shelf a bottle of colourless liquid with a plain white label marked VICTORY\\n\\nGIN. It gave off a sickly, oily smell, as of Chinese ricespirit. Winston poured out nearly a teacupful, nerved\\n\\nhimself for a shock, and gulped it down like a dose of medicine.\\n\\nInstantly his face turned scarlet and the water ran out of his eyes. The stuff was like nitric acid, and\\n\\nmoreover, in swallowing it one had the sensation of being hit on the back of the head with a rubber club.\\n\\n2 / 9\\n\\nchapter_one.md\\n\\n2024-08-27\\n\\nThe next moment, however, the burning in his belly died down and the world began to look more cheerful.\\n\\nHe took a cigarette from a crumpled packet marked VICTORY CIGARETTES and incautiously held it upright,\\n\\nwhereupon the tobacco fell out on to the floor. With the next he was more successful. He went back to the\\n\\nliving-room and sat down at a small table that stood to the left of the telescreen. From the table drawer he\\n\\ntook out a penholder, a bottle of ink, and a thick, quarto-sized blank book with a red back and a marbled\\n\\ncover.\\n\\nFor some reason the telescreen in the living-room was in an unusual position. Instead of being placed, as\\n\\nwas normal, in the end wall, where it could command the whole room, it was in the longer wall, opposite the\\n\\nwindow. To one side of it there was a shallow alcove in which Winston was now sitting, and which, when the\\n\\nflats were built, had probably been intended to hold bookshelves. By sitting in the alcove, and keeping well\\n\\nback, Winston was able to remain outside the range of the telescreen, so far as sight went. He could be\\n\\nheard, of course, but so long as he stayed in his present position he could not be seen. It was partly the\\n\\nunusual geography of the room that had suggested to him the thing that he was now about to do.\\n\\nBut it had also been suggested by the book that he had just taken out of the drawer. It was a peculiarly\\n\\nbeautiful book. Its smooth creamy paper, a little yellowed by age, was of a kind that had not been\\n\\nmanufactured for at least forty years past. He could guess, however, that the book was much older than\\n\\nthat. He had seen it lying in the window of a frowsy little junk-shop in a slummy quarter of the town (just\\n\\nwhat quarter he did not now remember) and had been stricken immediately by an overwhelming desire to\\n\\npossess it. Party members were supposed not to go into ordinary shops ('dealing on the free market', it was\\n\\ncalled), but the rule was not strictly kept, because there were various things, such as shoelaces and razor\\n\\nblades, which it was impossible to get hold of in any other way. He had given a quick glance up and down\\n\\nthe street and then had slipped inside and bought the book for two dollars fifty. At the time he was not\\n\\nconscious of wanting it for any particular purpose. He had carried it guiltily home in his briefcase. Even with\\n\\nnothing written in it, it was a compromising possession.\\n\\nThe thing that he was about to do was to open a diary. This was not illegal (nothing was illegal, since there\\n\\nwere no longer any laws), but if detected it was reasonably certain that it would be punished by death, or at\\n\\nleast by twenty-five years in a forced-labour camp. Winston fitted a nib into the penholder and sucked it to\\n\\nget the grease off. The pen was an archaic instrument, seldom used even for signatures, and he had\\n\\nprocured one, furtively and with some difficulty, simply because of a feeling that the beautiful creamy paper\\n\\ndeserved to be written on with a real nib instead of being scratched with an ink-pencil. Actually he was not\\n\\nused to writing by hand. Apart from very short notes, it was usual to dictate everything into the speakwrite\\n\\nwhich was of course impossible for his present purpose. He dipped the pen into the ink and then faltered\\n\\nfor just a second. A tremor had gone through his bowels. To mark the paper was the decisive act. In small\\n\\nclumsy letters he wrote:\\n\\nApril 4th, 1984.\\n\\nHe sat back. A sense of complete helplessness had descended upon him. To begin with, he did not know\\n\\nwith any certainty that this was 1984. It must be round about that date, since he was fairly sure that his age\\n\\nwas thirty-nine, and he believed that he had been born in 1944 or 1945; but it was never possible nowadays\\n\\nto pin down any date within a year or two.\\n\\nFor whom, it suddenly occurred to him to wonder, was he writing this diary? For the future, for the unborn.\\n\\nHis mind hovered for a moment round the doubtful date on the page, and then fetched up with a bump\\n\\nagainst the Newspeak word doublethink. For the first time the magnitude of what he had undertaken came\\n\\n3 / 9\\n\\nchapter_one.md\\n\\n2024-08-27\\n\\nhome to him. How could you communicate with the future? It was of its nature impossible. Either the future\\n\\nwould resemble the present, in which case it would not listen to him: or it would be different from it, and his\\n\\npredicament would be meaningless.\\n\\nFor some time he sat gazing stupidly at the paper. The telescreen had changed over to strident military\\n\\nmusic. It was curious that he seemed not merely to have lost the power of expressing himself, but even to\\n\\nhave forgotten what it was that he had originally intended to say. For weeks past he had been making ready\\n\\nfor this moment, and it had never crossed his mind that anything would be needed except courage. The\\n\\nactual writing would be easy. All he had to do was to transfer to paper the interminable restless monologue\\n\\nthat had been running inside his head, literally for years. At this moment, however, even the monologue had\\n\\ndried up. Moreover his varicose ulcer had begun itching unbearably. He dared not scratch it, because if he\\n\\ndid so it always became inflamed. The seconds were ticking by. He was conscious of nothing except the\\n\\nblankness of the page in front of him, the itching of the skin above his ankle, the blaring of the music, and a\\n\\nslight booziness caused by the gin.\\n\\nSuddenly he began writing in sheer panic, only imperfectly aware of what he was setting down. His small\\n\\nbut childish handwriting straggled up and down the page, shedding first its capital letters and finally even\\n\\nits full stops:\\n\\nApril 4th, 1984. Last night to the flicks. All war films. One very good one of a ship full of refugees being\\n\\nbombed somewhere in the Mediterranean. Audience much amused by shots of a great huge fat man trying\\n\\nto swim away with a helicopter after him, first you saw him wallowing along in the water like a porpoise, then\\n\\nyou saw him through the helicopters gunsights, then he was full of holes and the sea round him turned pink\\n\\nand he sank as suddenly as though the holes had let in the water, audience shouting with laughter when he\\n\\nsank. then you saw a lifeboat full of children with a helicopter hovering over it. there was a middle-aged\\n\\nwoman might have been a jewess sitting up in the bow with a little boy about three years old in her arms.\\n\\nlittle boy screaming with fright and hiding his head between her breasts as if he was trying to burrow right\\n\\ninto her and the woman putting her arms round him and comforting him although she was blue with fright\\n\\nherself, all the time covering him up as much as possible as if she thought her arms could keep the bullets\\n\\noff him. then the helicopter planted a 20 kilo bomb in among them terrific flash and the boat went all to\\n\\nmatchwood. then there was a wonderful shot of a child's arm going up up up right up into the air a\\n\\nhelicopter with a camera in its nose must have followed it up and there was a lot of applause from the party\\n\\nseats but a woman down in the prole part of the house suddenly started kicking up a fuss and shouting they\\n\\ndidnt oughter of showed it not in front of kids they didnt it aint right not in front of kids it aint until the police\\n\\nturned her turned her out i dont suppose anything happened to her nobody cares what the proles say\\n\\ntypical prole reaction they never --\\n\\nWinston stopped writing, partly because he was suffering from cramp. He did not know what had made him\\n\\npour out this stream of rubbish. But the curious thing was that while he was doing so a totally different\\n\\nmemory had clarified itself in his mind, to the point where he almost felt equal to writing it down. It was, he\\n\\nnow realized, because of this other incident that he had suddenly decided to come home and begin the\\n\\ndiary today.\\n\\nIt had happened that morning at the Ministry, if anything so nebulous could be said to happen.\\n\\nIt was nearly eleven hundred, and in the Records Department, where Winston worked, they were dragging\\n\\nthe chairs out of the cubicles and grouping them in the centre of the hall opposite the big telescreen, in\\n\\npreparation for the Two Minutes Hate. Winston was just taking his place in one of the middle rows when two\\n\\n4 / 9\\n\\nchapter_one.md\\n\\n2024-08-27\\n\\npeople whom he knew by sight, but had never spoken to, came unexpectedly into the room. One of them\\n\\nwas a girl whom he often passed in the corridors. He did not know her name, but he knew that she worked\\n\\nin the Fiction Department. Presumably -- since he had sometimes seen her with oily hands and carrying a\\n\\nspanner she had some mechanical job on one of the novel-writing machines. She was a bold-looking girl, of\\n\\nabout twenty-seven, with thick hair, a freckled face, and swift, athletic movements. A narrow scarlet sash,\\n\\nemblem of the Junior Anti-Sex League, was wound several times round the waist of her overalls, just tightly\\n\\nenough to bring out the shapeliness of her hips. Winston had disliked her from the very first moment of\\n\\nseeing her. He knew the reason. It was because of the atmosphere of hockey-fields and cold baths and\\n\\ncommunity hikes and general clean-mindedness which she managed to carry about with her. He disliked\\n\\nnearly all women, and especially the young and pretty ones. It was always the women, and above all the\\n\\nyoung ones, who were the most bigoted adherents of the Party, the swallowers of slogans, the amateur\\n\\nspies and nosers-out of unorthodoxy. But this particular girl gave him the impression of being more\\n\\ndangerous than most. Once when they passed in the corridor she gave him a quick sidelong glance which\\n\\nseemed to pierce right into him and for a moment had filled him with black terror. The idea had even\\n\\ncrossed his mind that she might be an agent of the Thought Police. That, it was true, was very unlikely. Still,\\n\\nhe continued to feel a peculiar uneasiness, which had fear mixed up in it as well as hostility, whenever she\\n\\nwas anywhere near him.\\n\\nThe other person was a man named O'Brien, a member of the Inner Party and holder of some post so\\n\\nimportant and remote that Winston had only a dim idea of its nature. A momentary hush passed over the\\n\\ngroup of people round the chairs as they saw the black overalls of an Inner Party member approaching.\\n\\nO'Brien was a large, burly man with a thick neck and a coarse, humorous, brutal face. In spite of his\\n\\nformidable appearance he had a certain charm of manner. He had a trick of resettling his spectacles on his\\n\\nnose which was curiously disarming -- in some indefinable way, curiously civilized. It was a gesture which, if\\n\\nanyone had still thought in such terms, might have recalled an eighteenth-century nobleman offering his\\n\\nsnuffbox. Winston had seen O'Brien perhaps a dozen times in almost as many years. He felt deeply drawn\\n\\nto him, and not solely because he was intrigued by the contrast between O'Brien's urbane manner and his\\n\\nprize-fighter's physique. Much more it was because of a secretly held belief -- or perhaps not even a belief,\\n\\nmerely a hope -- that O'Brien's political orthodoxy was not perfect. Something in his face suggested it\\n\\nirresistibly. And again, perhaps it was not even unorthodoxy that was written in his face, but simply\\n\\nintelligence. But at any rate he had the appearance of being a person that you could talk to if somehow you\\n\\ncould cheat the telescreen and get him alone. Winston had never made the smallest effort to verify this\\n\\nguess: indeed, there was no way of doing so. At this moment O'Brien glanced at his wrist-watch, saw that it\\n\\nwas nearly eleven hundred, and evidently decided to stay in the Records Department until the Two Minutes\\n\\nHate was over. He took a chair in the same row as Winston, a couple of places away. A small, sandy-haired\\n\\nwoman who worked in the next cubicle to Winston was between them. The girl with dark hair was sitting\\n\\nimmediately behind.\\n\\nThe next moment a hideous, grinding speech, as of some monstrous machine running without oil, burst\\n\\nfrom the big telescreen at the end of the room. It was a noise that set one's teeth on edge and bristled the\\n\\nhair at the back of one's neck. The Hate had started.\\n\\nAs usual, the face of Emmanuel Goldstein, the Enemy of the People, had flashed on to the screen. There\\n\\nwere hisses here and there among the audience. The little sandy-haired woman gave a squeak of mingled\\n\\nfear and disgust. Goldstein was the renegade and backslider who once, long ago (how long ago, nobody\\n\\nquite remembered), had been one of the leading figures of the Party, almost on a level with Big Brother\\n\\nhimself, and then had engaged in counter-revolutionary activities, had been condemned to death, and had\\n\\n5 / 9\\n\\nchapter_one.md\\n\\n2024-08-27\\n\\nmysteriously escaped and disappeared. The programmes of the Two Minutes Hate varied from day to day,\\n\\nbut there was none in which Goldstein was not the principal figure. He was the primal traitor, the earliest\\n\\ndefiler of the Party's purity. All subsequent crimes against the Party, all treacheries, acts of sabotage,\\n\\nheresies, deviations, sprang directly out of his teaching. Somewhere or other he was still alive and hatching\\n\\nhis conspiracies: perhaps somewhere beyond the sea, under the protection of his foreign paymasters,\\n\\nperhaps even -- so it was occasionally rumoured -- in some hiding-place in Oceania itself.\\n\\nWinston's diaphragm was constricted. He could never see the face of Goldstein without a painful mixture of\\n\\nemotions. It was a lean Jewish face, with a great fuzzy aureole of white hair and a small goatee beard -- a\\n\\nclever face, and yet somehow inherently despicable, with a kind of senile silliness in the long thin nose, near\\n\\nthe end of which a pair of spectacles was perched. It resembled the face of a sheep, and the voice, too, had\\n\\na sheep-like quality. Goldstein was delivering his usual venomous attack upon the doctrines of the Party --\\n\\nan attack so exaggerated and perverse that a child should have been able to see through it, and yet just\\n\\nplausible enough to fill one with an alarmed feeling that other people, less level-headed than oneself, might\\n\\nbe taken in by it. He was abusing Big Brother, he was denouncing the dictatorship of the Party, he was\\n\\ndemanding the immediate conclusion of peace with Eurasia, he was advocating freedom of speech,\\n\\nfreedom of the Press, freedom of assembly, freedom of thought, he was crying hysterically that the\\n\\nrevolution had been betrayed -- and all this in rapid polysyllabic speech which was a sort of parody of the\\n\\nhabitual style of the orators of the Party, and even contained Newspeak words: more Newspeak words,\\n\\nindeed, than any Party member would normally use in real life. And all the while, lest one should be in any\\n\\ndoubt as to the reality which Goldstein's specious claptrap covered, behind his head on the telescreen\\n\\nthere marched the endless columns of the Eurasian army -- row after row of solid-looking men with\\n\\nexpressionless Asiatic faces, who swam up to the surface of the screen and vanished, to be replaced by\\n\\nothers exactly similar. The dull rhythmic tramp of the soldiers' boots formed the background to Goldstein's\\n\\nbleating voice.\\n\\nBefore the Hate had proceeded for thirty seconds, uncontrollable exclamations of rage were breaking out\\n\\nfrom half the people in the room. The self-satisfied sheep-like face on the screen, and the terrifying power\\n\\nof the Eurasian army behind it, were too much to be borne: besides, the sight or even the thought of\\n\\nGoldstein produced fear and anger automatically. He was an object of hatred more constant than either\\n\\nEurasia or Eastasia, since when Oceania was at war with one of these Powers it was generally at peace with\\n\\nthe other. But what was strange was that although Goldstein was hated and despised by everybody,\\n\\nalthough every day and a thousand times a day, on platforms, on the telescreen, in newspapers, in books,\\n\\nhis theories were refuted, smashed, ridiculed, held up to the general gaze for the pitiful rubbish that they\\n\\nwere in spite of all this, his influence never seemed to grow less. Always there were fresh dupes waiting to\\n\\nbe seduced by him. A day never passed when spies and saboteurs acting under his directions were not\\n\\nunmasked by the Thought Police. He was the commander of a vast shadowy army, an underground network\\n\\nof conspirators dedicated to the overthrow of the State. The Brotherhood, its name was supposed to be.\\n\\nThere were also whispered stories of a terrible book, a compendium of all the heresies, of which Goldstein\\n\\nwas the author and which circulated clandestinely here and there. It was a book without a title. People\\n\\nreferred to it, if at all, simply as the book. But one knew of such things only through vague rumours. Neither\\n\\nthe Brotherhood nor the book was a subject that any ordinary Party member would mention if there was a\\n\\nway of avoiding it.\\n\\nIn its second minute the Hate rose to a frenzy. People were leaping up and down in their places and\\n\\nshouting at the tops of their voices in an effort to drown the maddening bleating voice that came from the\\n\\nscreen. The little sandy-haired woman had turned bright pink, and her mouth was opening and shutting like\\n\\n6 / 9\\n\\nchapter_one.md\\n\\n2024-08-27\\n\\nthat of a landed fish. Even O'Brien's heavy face was flushed. He was sitting very straight in his chair, his\\n\\npowerful chest swelling and quivering as though he were standing up to the assault of a wave. The dark-\\n\\nhaired girl behind Winston had begun crying out 'Swine! Swine! Swine!' and suddenly she picked up a heavy\\n\\nNewspeak dictionary and flung it at the screen. It struck Goldstein's nose and bounced off; the voice\\n\\ncontinued inexorably. In a lucid moment Winston found that he was shouting with the others and kicking his\\n\\nheel violently against the rung of his chair. The horrible thing about the Two Minutes Hate was not that one\\n\\nwas obliged to act a part, but, on the contrary, that it was impossible to avoid joining in. Within thirty\\n\\nseconds any pretence was always unnecessary. A hideous ecstasy of fear and vindictiveness, a desire to\\n\\nkill, to torture, to smash faces in with a sledge-hammer, seemed to flow through the whole group of people\\n\\nlike an electric current, turning one even against one's will into a grimacing, screaming lunatic. And yet the\\n\\nrage that one felt was an abstract, undirected emotion which could be switched from one object to another\\n\\nlike the flame of a blowlamp. Thus, at one moment Winston's hatred was not turned against Goldstein at all,\\n\\nbut, on the contrary, against Big Brother, the Party, and the Thought Police; and at such moments his heart\\n\\nwent out to the lonely, derided heretic on the screen, sole guardian of truth and sanity in a world of lies. And\\n\\nyet the very next instant he was at one with the people about him, and all that was said of Goldstein seemed\\n\\nto him to be true. At those moments his secret loathing of Big Brother changed into adoration, and Big\\n\\nBrother seemed to tower up, an invincible, fearless protector, standing like a rock against the hordes of\\n\\nAsia, and Goldstein, in spite of his isolation, his helplessness, and the doubt that hung about his very\\n\\nexistence, seemed like some sinister enchanter, capable by the mere power of his voice of wrecking the\\n\\nstructure of civilization.\\n\\nIt was even possible, at moments, to switch one's hatred this way or that by a voluntary act. Suddenly, by\\n\\nthe sort of violent effort with which one wrenches one's head away from the pillow in a nightmare, Winston\\n\\nsucceeded in transferring his hatred from the face on the screen to the dark-haired girl behind him. Vivid,\\n\\nbeautiful hallucinations flashed through his mind. He would flog her to death with a rubber truncheon. He\\n\\nwould tie her naked to a stake and shoot her full of arrows like Saint Sebastian. He would ravish her and cut\\n\\nher throat at the moment of climax. Better than before, moreover, he realized why it was that he hated her.\\n\\nHe hated her because she was young and pretty and sexless, because he wanted to go to bed with her and\\n\\nwould never do so, because round her sweet supple waist, which seemed to ask you to encircle it with your\\n\\narm, there was only the odious scarlet sash, aggressive symbol of chastity.\\n\\nThe Hate rose to its climax. The voice of Goldstein had become an actual sheep's bleat, and for an instant\\n\\nthe face changed into that of a sheep. Then the sheep-face melted into the figure of a Eurasian soldier who\\n\\nseemed to be advancing, huge and terrible, his sub-machine gun roaring, and seeming to spring out of the\\n\\nsurface of the screen, so that some of the people in the front row actually flinched backwards in their seats.\\n\\nBut in the same moment, drawing a deep sigh of relief from everybody, the hostile figure melted into the\\n\\nface of Big Brother, black-haired, black-moustachio'd, full of power and mysterious calm, and so vast that it\\n\\nalmost filled up the screen. Nobody heard what Big Brother was saying. It was merely a few words of\\n\\nencouragement, the sort of words that are uttered in the din of battle, not distinguishable individually but\\n\\nrestoring confidence by the fact of being spoken. Then the face of Big Brother faded away again, and\\n\\ninstead the three slogans of the Party stood out in bold capitals:\\n\\nWAR IS PEACE\\n\\nFREEDOM IS SLAVERY\\n\\nIGNORANCE IS STRENGTH\\n\\n7 / 9\\n\\nchapter_one.md\\n\\n2024-08-27\\n\\nBut the face of Big Brother seemed to persist for several seconds on the screen, as though the impact that\\n\\nit had made on everyone's eyeballs was too vivid to wear off immediately. The little sandyhaired woman had\\n\\nflung herself forward over the back of the chair in front of her. With a tremulous murmur that sounded like\\n\\n'My Saviour!' she extended her arms towards the screen. Then she buried her face in her hands. It was\\n\\napparent that she was uttering a prayer.\\n\\nAt this moment the entire group of people broke into a deep, slow, rhythmical chant of 'B-B! ...B-B!' -- over\\n\\nand over again, very slowly, with a long pause between the first 'B' and the second-a heavy, murmurous\\n\\nsound, somehow curiously savage, in the background of which one seemed to hear the stamp of naked feet\\n\\nand the throbbing of tom-toms. For perhaps as much as thirty seconds they kept it up. It was a refrain that\\n\\nwas often heard in moments of overwhelming emotion. Partly it was a sort of hymn to the wisdom and\\n\\nmajesty of Big Brother, but still more it was an act of self-hypnosis, a deliberate drowning of consciousness\\n\\nby means of rhythmic noise. Winston's entrails seemed to grow cold. In the Two Minutes Hate he could not\\n\\nhelp sharing in the general delirium, but this sub-human chanting of 'B-B! ...B-B!' always filled him with\\n\\nhorror. Of course he chanted with the rest: it was impossible to do otherwise. To dissemble your feelings, to\\n\\ncontrol your face, to do what everyone else was doing, was an instinctive reaction. But there was a space of\\n\\na couple of seconds during which the expression of his eyes might conceivably have betrayed him. And it\\n\\nwas exactly at this moment that the significant thing happened -- if, indeed, it did happen.\\n\\nMomentarily he caught O'Brien's eye. O'Brien had stood up. He had taken off his spectacles and was in the\\n\\nact of resettling them on his nose with his characteristic gesture. But there was a fraction of a second when\\n\\ntheir eyes met, and for as long as it took to happen Winston knew-yes, he knew!-that O'Brien was thinking\\n\\nthe same thing as himself. An unmistakable message had passed. It was as though their two minds had\\n\\nopened and the thoughts were flowing from one into the other through their eyes. 'I am with you,' O'Brien\\n\\nseemed to be saying to him. 'I know precisely what you are feeling. I know all about your contempt, your\\n\\nhatred, your disgust. But don't worry, I am on your side!' And then the flash of intelligence was gone, and\\n\\nO'Brien's face was as inscrutable as everybody else's.\\n\\nThat was all, and he was already uncertain whether it had happened. Such incidents never had any sequel.\\n\\nAll that they did was to keep alive in him the belief, or hope, that others besides himself were the enemies of\\n\\nthe Party. Perhaps the rumours of vast underground conspiracies were true after all -- perhaps the\\n\\nBrotherhood really existed! It was impossible, in spite of the endless arrests and confessions and\\n\\nexecutions, to be sure that the Brotherhood was not simply a myth. Some days he believed in it, some days\\n\\nnot. There was no evidence, only fleeting glimpses that might mean anything or nothing: snatches of\\n\\noverheard conversation, faint scribbles on lavatory walls -- once, even, when two strangers met, a small\\n\\nmovement of the hand which had looked as though it might be a signal of recognition. It was all guesswork:\\n\\nvery likely he had imagined everything. He had gone back to his cubicle without looking at O'Brien again.\\n\\nThe idea of following up their momentary contact hardly crossed his mind. It would have been inconceivably\\n\\ndangerous even if he had known how to set about doing it. For a second, two seconds, they had exchanged\\n\\nan equivocal glance, and that was the end of the story. But even that was a memorable event, in the locked\\n\\nloneliness in which one had to live.\\n\\nWinston roused himself and sat up straighter. He let out a belch. The gin was rising from his stomach.\\n\\nHis eyes re-focused on the page. He discovered that while he sat helplessly musing he had also been\\n\\nwriting, as though by automatic action. And it was no longer the same cramped, awkward handwriting as\\n\\nbefore. His pen had slid voluptuously over the smooth paper, printing in large neat capitals -\\n\\n8 / 9\\n\\nchapter_one.md\\n\\n2024-08-27\\n\\nDOWN WITH BIG BROTHER\\n\\nDOWN WITH BIG BROTHER\\n\\nDOWN WITH BIG BROTHER\\n\\nDOWN WITH BIG BROTHER\\n\\nDOWN WITH BIG BROTHER\\n\\nover and over again, filling half a page.\\n\\nHe could not help feeling a twinge of panic. It was absurd, since the writing of those particular words was\\n\\nnot more dangerous than the initial act of opening the diary, but for a moment he was tempted to tear out\\n\\nthe spoiled pages and abandon the enterprise altogether.\\n\\nHe did not do so, however, because he knew that it was useless. Whether he wrote DOWN WITH BIG\\n\\nBROTHER, or whether he refrained from writing it, made no difference. Whether he went on with the diary,\\n\\nor whether he did not go on with it, made no difference. The Thought Police would get him just the same.\\n\\nHe had committed -- would still have committed, even if he had never set pen to paper -- the essential\\n\\ncrime that contained all others in itself. Thoughtcrime, they called it. Thoughtcrime was not a thing that\\n\\ncould be concealed for ever. You might dodge successfully for a while, even for years, but sooner or later\\n\\nthey were bound to get you.\\n\\nIt was always at night -- the arrests invariably happened at night. The sudden jerk out of sleep, the rough\\n\\nhand shaking your shoulder, the lights glaring in your eyes, the ring of hard faces round the bed. In the vast\\n\\nmajority of cases there was no trial, no report of the arrest. People simply disappeared, always during the\\n\\nnight. Your name was removed from the registers, every record of everything you had ever done was wiped\\n\\nout, your one-time existence was denied and then forgotten. You were abolished, annihilated: vaporized\\n\\nwas the usual word.\\n\\nFor a moment he was seized by a kind of hysteria. He began writing in a hurried untidy scrawl:\\n\\ntheyll shoot me i don't care theyll shoot me in the back of the neck i dont care down with big brother they\\n\\nalways shoot you in the back of the neck i dont care down with big brother --\\n\\nHe sat back in his chair, slightly ashamed of himself, and laid down the pen. The next moment he started\\n\\nviolently. There was a knocking at the door.\\n\\nAlready! He sat as still as a mouse, in the futile hope that whoever it was might go away after a single\\n\\nattempt. But no, the knocking was repeated. The worst thing of all would be to delay. His heart was\\n\\nthumping like a drum, but his face, from long habit, was probably expressionless. He got up and moved\\n\\nheavily towards the door.\\n\\n9 / 9\", metadata={'source': './rag_data/chapter_one.pdf'})]"
      ]
     },
     "execution_count": 1,
     "metadata": {},
     "output_type": "execute_result"
    }
   ],
   "source": [
    "from langchain.chat_models import ChatOpenAI\n",
    "from langchain.document_loaders import UnstructuredFileLoader\n",
    "\n",
    "loader = UnstructuredFileLoader(\"./rag_data/chapter_one.pdf\")\n",
    "\n",
    "loader.load()"
   ]
  },
  {
   "cell_type": "code",
   "execution_count": 2,
   "metadata": {},
   "outputs": [],
   "source": [
    "from langchain.chat_models import ChatOpenAI\n",
    "from langchain.document_loaders import UnstructuredFileLoader\n",
    "from langchain.text_splitter import CharacterTextSplitter\n",
    "from langchain.embeddings import OpenAIEmbeddings, CacheBackedEmbeddings\n",
    "from langchain.vectorstores import Chroma\n",
    "from langchain.storage import LocalFileStore\n",
    "\n",
    "cache_dir = LocalFileStore(\"./.cache/\")\n",
    "\n",
    "\n",
    "splitter = CharacterTextSplitter.from_tiktoken_encoder(\n",
    "    separator=\"\\n\",\n",
    "    chunk_size=600,\n",
    "    chunk_overlap=100,\n",
    ")\n",
    "loader = UnstructuredFileLoader(\"./rag_data/chapter_one.pdf\")\n",
    "\n",
    "docs = loader.load_and_split(text_splitter=splitter)\n",
    "\n",
    "embeddings = OpenAIEmbeddings()\n",
    "\n",
    "cached_embeddings = CacheBackedEmbeddings.from_bytes_store(embeddings, cache_dir)\n",
    "\n",
    "vectorstore = Chroma.from_documents(docs, cached_embeddings)"
   ]
  },
  {
   "cell_type": "code",
   "execution_count": 9,
   "metadata": {},
   "outputs": [
    {
     "data": {
      "text/plain": [
       "[Document(page_content=\"The Ministry of Love was the really frightening one. There were no windows in it at all. Winston had never\\nbeen inside the Ministry of Love, nor within half a kilometre of it. It was a place impossible to enter except\\non official business, and then only by penetrating through a maze of barbed-wire entanglements, steel\\ndoors, and hidden machine-gun nests. Even the streets leading up to its outer barriers were roamed by\\ngorilla-faced guards in black uniforms, armed with jointed truncheons.\\nWinston turned round abruptly. He had set his features into the expression of quiet optimism which it was\\nadvisable to wear when facing the telescreen. He crossed the room into the tiny kitchen. By leaving the\\nMinistry at this time of day he had sacrificed his lunch in the canteen, and he was aware that there was no\\nfood in the kitchen except a hunk of dark-coloured bread which had got to be saved for tomorrow's\\nbreakfast. He took down from the shelf a bottle of colourless liquid with a plain white label marked VICTORY\\nGIN. It gave off a sickly, oily smell, as of Chinese ricespirit. Winston poured out nearly a teacupful, nerved\\nhimself for a shock, and gulped it down like a dose of medicine.\\nInstantly his face turned scarlet and the water ran out of his eyes. The stuff was like nitric acid, and\\nmoreover, in swallowing it one had the sensation of being hit on the back of the head with a rubber club.\\n2 / 9\\nchapter_one.md\\n2024-08-27\\nThe next moment, however, the burning in his belly died down and the world began to look more cheerful.\\nHe took a cigarette from a crumpled packet marked VICTORY CIGARETTES and incautiously held it upright,\\nwhereupon the tobacco fell out on to the floor. With the next he was more successful. He went back to the\\nliving-room and sat down at a small table that stood to the left of the telescreen. From the table drawer he\\ntook out a penholder, a bottle of ink, and a thick, quarto-sized blank book with a red back and a marbled\\ncover.\\nFor some reason the telescreen in the living-room was in an unusual position. Instead of being placed, as\\nwas normal, in the end wall, where it could command the whole room, it was in the longer wall, opposite the\\nwindow. To one side of it there was a shallow alcove in which Winston was now sitting, and which, when the\\nflats were built, had probably been intended to hold bookshelves. By sitting in the alcove, and keeping well\", metadata={'source': './rag_data/chapter_one.pdf'}),\n",
       " Document(page_content=\"winter that had just ended.\\nOutside, even through the shut window-pane, the world looked cold. Down in the street little eddies of wind\\nwere whirling dust and torn paper into spirals, and though the sun was shining and the sky a harsh blue,\\nthere seemed to be no colour in anything, except the posters that were plastered everywhere. The\\nblackmoustachio'd face gazed down from every commanding corner. There was one on the house-front\\nimmediately opposite. BIG BROTHER IS WATCHING YOU, the caption said, while the dark eyes looked deep\\ninto Winston's own. Down at streetlevel another poster, torn at one corner, flapped fitfully in the wind,\\nalternately covering and uncovering the single word INGSOC. In the far distance a helicopter skimmed down\\nbetween the roofs, hovered for an instant like a bluebottle, and darted away again with a curving flight. It\\nwas the police patrol, snooping into people's windows. The patrols did not matter, however. Only the\\nThought Police mattered.\\nBehind Winston's back the voice from the telescreen was still babbling away about pig-iron and the\\noverfulfilment of the Ninth Three-Year Plan. The telescreen received and transmitted simultaneously. Any\\nsound that Winston made, above the level of a very low whisper, would be picked up by it, moreover, so\\nlong as he remained within the field of vision which the metal plaque commanded, he could be seen as well\\nas heard. There was of course no way of knowing whether you were being watched at any given moment.\\nHow often, or on what system, the Thought Police plugged in on any individual wire was guesswork. It was\\neven conceivable that they watched everybody all the time. But at any rate they could plug in your wire\\nwhenever they wanted to. You had to live -- did live, from habit that became instinct -- in the assumption\\nthat every sound you made was overheard, and, except in darkness, every movement scrutinized.\\n1 / 9\\nchapter_one.md\\n2024-08-27\\nWinston kept his back turned to the telescreen. It was safer, though, as he well knew, even a back can be\\nrevealing. A kilometre away the Ministry of Truth, his place of work, towered vast and white above the grimy\\nlandscape. This, he thought with a sort of vague distaste -- this was London, chief city of Airstrip One, itself\\nthe third most populous of the provinces of Oceania. He tried to squeeze out some childhood memory that\\nshould tell him whether London had always been quite like this. Were there always these vistas of rotting\\nnineteenth-century houses, their sides shored up with baulks of timber, their windows patched with\", metadata={'source': './rag_data/chapter_one.pdf'}),\n",
       " Document(page_content=\"chapter_one.md\\n2024-08-27\\nPart 1, Chapter 1\\nPart One\\n1 It was a bright cold day in April, and the clocks were striking thirteen. Winston Smith, his chin nuzzled into\\nhis breast in an effort to escape the vile wind, slipped quickly through the glass doors of Victory Mansions,\\nthough not quickly enough to prevent a swirl of gritty dust from entering along with him.\\nThe hallway smelt of boiled cabbage and old rag mats. At one end of it a coloured poster, too large for\\nindoor display, had been tacked to the wall. It depicted simply an enormous face, more than a metre wide:\\nthe face of a man of about forty-five, with a heavy black moustache and ruggedly handsome features.\\nWinston made for the stairs. It was no use trying the lift. Even at the best of times it was seldom working,\\nand at present the electric current was cut off during daylight hours. It was part of the economy drive in\\npreparation for Hate Week. The flat was seven flights up, and Winston, who was thirty-nine and had a\\nvaricose ulcer above his right ankle, went slowly, resting several times on the way. On each landing,\\nopposite the lift-shaft, the poster with the enormous face gazed from the wall. It was one of those pictures\\nwhich are so contrived that the eyes follow you about when you move. BIG BROTHER IS WATCHING YOU,\\nthe caption beneath it ran.\\nInside the flat a fruity voice was reading out a list of figures which had something to do with the production\\nof pig-iron. The voice came from an oblong metal plaque like a dulled mirror which formed part of the\\nsurface of the right-hand wall. Winston turned a switch and the voice sank somewhat, though the words\\nwere still distinguishable. The instrument (the telescreen, it was called) could be dimmed, but there was no\\nway of shutting it off completely. He moved over to the window: a smallish, frail figure, the meagreness of\\nhis body merely emphasized by the blue overalls which were the uniform of the party. His hair was very fair,\\nhis face naturally sanguine, his skin roughened by coarse soap and blunt razor blades and the cold of the\\nwinter that had just ended.\\nOutside, even through the shut window-pane, the world looked cold. Down in the street little eddies of wind\\nwere whirling dust and torn paper into spirals, and though the sun was shining and the sky a harsh blue,\\nthere seemed to be no colour in anything, except the posters that were plastered everywhere. The\\nblackmoustachio'd face gazed down from every commanding corner. There was one on the house-front\", metadata={'source': './rag_data/chapter_one.pdf'}),\n",
       " Document(page_content=\"could cheat the telescreen and get him alone. Winston had never made the smallest effort to verify this\\nguess: indeed, there was no way of doing so. At this moment O'Brien glanced at his wrist-watch, saw that it\\nwas nearly eleven hundred, and evidently decided to stay in the Records Department until the Two Minutes\\nHate was over. He took a chair in the same row as Winston, a couple of places away. A small, sandy-haired\\nwoman who worked in the next cubicle to Winston was between them. The girl with dark hair was sitting\\nimmediately behind.\\nThe next moment a hideous, grinding speech, as of some monstrous machine running without oil, burst\\nfrom the big telescreen at the end of the room. It was a noise that set one's teeth on edge and bristled the\\nhair at the back of one's neck. The Hate had started.\\nAs usual, the face of Emmanuel Goldstein, the Enemy of the People, had flashed on to the screen. There\\nwere hisses here and there among the audience. The little sandy-haired woman gave a squeak of mingled\\nfear and disgust. Goldstein was the renegade and backslider who once, long ago (how long ago, nobody\\nquite remembered), had been one of the leading figures of the Party, almost on a level with Big Brother\\nhimself, and then had engaged in counter-revolutionary activities, had been condemned to death, and had\\n5 / 9\\nchapter_one.md\\n2024-08-27\\nmysteriously escaped and disappeared. The programmes of the Two Minutes Hate varied from day to day,\\nbut there was none in which Goldstein was not the principal figure. He was the primal traitor, the earliest\\ndefiler of the Party's purity. All subsequent crimes against the Party, all treacheries, acts of sabotage,\\nheresies, deviations, sprang directly out of his teaching. Somewhere or other he was still alive and hatching\\nhis conspiracies: perhaps somewhere beyond the sea, under the protection of his foreign paymasters,\\nperhaps even -- so it was occasionally rumoured -- in some hiding-place in Oceania itself.\\nWinston's diaphragm was constricted. He could never see the face of Goldstein without a painful mixture of\\nemotions. It was a lean Jewish face, with a great fuzzy aureole of white hair and a small goatee beard -- a\\nclever face, and yet somehow inherently despicable, with a kind of senile silliness in the long thin nose, near\\nthe end of which a pair of spectacles was perched. It resembled the face of a sheep, and the voice, too, had\\na sheep-like quality. Goldstein was delivering his usual venomous attack upon the doctrines of the Party --\", metadata={'source': './rag_data/chapter_one.pdf'})]"
      ]
     },
     "execution_count": 9,
     "metadata": {},
     "output_type": "execute_result"
    }
   ],
   "source": [
    "results = vectorstore.similarity_search(\"where does winston live\")\n",
    "\n",
    "results"
   ]
  },
  {
   "cell_type": "code",
   "execution_count": 4,
   "metadata": {},
   "outputs": [
    {
     "data": {
      "text/plain": [
       "4"
      ]
     },
     "execution_count": 4,
     "metadata": {},
     "output_type": "execute_result"
    }
   ],
   "source": [
    "len(results)"
   ]
  },
  {
   "cell_type": "code",
   "execution_count": 6,
   "metadata": {},
   "outputs": [
    {
     "name": "stdout",
     "output_type": "stream",
     "text": [
      "page_content=\"The Ministry of Love was the really frightening one. There were no windows in it at all. Winston had never\\nbeen inside the Ministry of Love, nor within half a kilometre of it. It was a place impossible to enter except\\non official business, and then only by penetrating through a maze of barbed-wire entanglements, steel\\ndoors, and hidden machine-gun nests. Even the streets leading up to its outer barriers were roamed by\\ngorilla-faced guards in black uniforms, armed with jointed truncheons.\\nWinston turned round abruptly. He had set his features into the expression of quiet optimism which it was\\nadvisable to wear when facing the telescreen. He crossed the room into the tiny kitchen. By leaving the\\nMinistry at this time of day he had sacrificed his lunch in the canteen, and he was aware that there was no\\nfood in the kitchen except a hunk of dark-coloured bread which had got to be saved for tomorrow's\\nbreakfast. He took down from the shelf a bottle of colourless liquid with a plain white label marked VICTORY\\nGIN. It gave off a sickly, oily smell, as of Chinese ricespirit. Winston poured out nearly a teacupful, nerved\\nhimself for a shock, and gulped it down like a dose of medicine.\\nInstantly his face turned scarlet and the water ran out of his eyes. The stuff was like nitric acid, and\\nmoreover, in swallowing it one had the sensation of being hit on the back of the head with a rubber club.\\n2 / 9\\nchapter_one.md\\n2024-08-27\\nThe next moment, however, the burning in his belly died down and the world began to look more cheerful.\\nHe took a cigarette from a crumpled packet marked VICTORY CIGARETTES and incautiously held it upright,\\nwhereupon the tobacco fell out on to the floor. With the next he was more successful. He went back to the\\nliving-room and sat down at a small table that stood to the left of the telescreen. From the table drawer he\\ntook out a penholder, a bottle of ink, and a thick, quarto-sized blank book with a red back and a marbled\\ncover.\\nFor some reason the telescreen in the living-room was in an unusual position. Instead of being placed, as\\nwas normal, in the end wall, where it could command the whole room, it was in the longer wall, opposite the\\nwindow. To one side of it there was a shallow alcove in which Winston was now sitting, and which, when the\\nflats were built, had probably been intended to hold bookshelves. By sitting in the alcove, and keeping well\" metadata={'source': './rag_data/chapter_one.pdf'}\n"
     ]
    }
   ],
   "source": [
    "print(results[0])"
   ]
  },
  {
   "cell_type": "code",
   "execution_count": 10,
   "metadata": {},
   "outputs": [
    {
     "name": "stdout",
     "output_type": "stream",
     "text": [
      "Total length of returned documents: 10000\n"
     ]
    }
   ],
   "source": [
    "total_length = sum(len(doc.page_content) for doc in results)\n",
    "print(f\"Total length of returned documents: {total_length}\")"
   ]
  },
  {
   "cell_type": "code",
   "execution_count": 13,
   "metadata": {},
   "outputs": [
    {
     "name": "stdout",
     "output_type": "stream",
     "text": [
      "4\n"
     ]
    }
   ],
   "source": [
    "# 총 문서 수\n",
    "total_docs = sum(1 for line in results)\n",
    "print(total_docs)"
   ]
  },
  {
   "cell_type": "code",
   "execution_count": 14,
   "metadata": {},
   "outputs": [
    {
     "name": "stdout",
     "output_type": "stream",
     "text": [
      "1745\n"
     ]
    }
   ],
   "source": [
    "#총 단어 수\n",
    "total_words = sum(len(doc.page_content.split()) for doc in results)\n",
    "print(total_words)"
   ]
  },
  {
   "cell_type": "code",
   "execution_count": 15,
   "metadata": {},
   "outputs": [
    {
     "name": "stdout",
     "output_type": "stream",
     "text": [
      "Length of the longest document: 2574\n"
     ]
    }
   ],
   "source": [
    "#가장 긴 문서의 길이 찾기\n",
    "longest_doc_length = max(len(doc.page_content) for doc in results)\n",
    "print(f\"Length of the longest document: {longest_doc_length}\")"
   ]
  },
  {
   "cell_type": "code",
   "execution_count": 16,
   "metadata": {},
   "outputs": [
    {
     "name": "stdout",
     "output_type": "stream",
     "text": [
      "Lengths of all documents: [2401, 2574, 2511, 2514]\n"
     ]
    }
   ],
   "source": [
    "#가장 긴 문서의 길이를 리스트로 만들기!\n",
    "doc_lengths = [len(doc.page_content) for doc in results]\n",
    "print(f\"Lengths of all documents: {doc_lengths}\")"
   ]
  },
  {
   "cell_type": "code",
   "execution_count": 17,
   "metadata": {},
   "outputs": [
    {
     "name": "stdout",
     "output_type": "stream",
     "text": [
      "Number of documents containing 'winston': 4\n"
     ]
    }
   ],
   "source": [
    "#특정 단어가 포함된 문서 수 계산하기 \n",
    "word_to_find = \"winston\"\n",
    "docs_with_word = sum(1 for doc in results if word_to_find in doc.page_content.lower())\n",
    "print(f\"Number of documents containing '{word_to_find}': {docs_with_word}\")"
   ]
  },
  {
   "cell_type": "code",
   "execution_count": 20,
   "metadata": {},
   "outputs": [
    {
     "name": "stdout",
     "output_type": "stream",
     "text": [
      "The word 'winston' appears 16 times in total.\n"
     ]
    }
   ],
   "source": [
    "#특정 단어의 총 수 계산\n",
    "word_to_find = \"winston\"\n",
    "word_count = sum(doc.page_content.lower().count(word_to_find) for doc in results)\n",
    "print(f\"The word '{word_to_find}' appears {word_count} times in total.\")\n",
    "\n",
    "# word_to_find = \"winston\": 찾고자 하는 단어를 변수에 저장합니다.\n",
    "# sum(... for doc in results): results 리스트의 각 문서(doc)에 대해 연산을 수행하고 그 결과를 합산합니다.\n",
    "# doc.page_content.lower(): 각 문서의 내용을 소문자로 변환합니다. 이렇게 하면 대소문자 구분 없이 단어를 찾을 수 있습니다.\n",
    "# .count(word_to_find): 변환된 문서 내용에서 word_to_find의 등장 횟수를 셉니다.\n",
    "# 최종적으로 sum()은 각 문서에서 찾은 단어의 횟수를 모두 더합니다."
   ]
  },
  {
   "cell_type": "code",
   "execution_count": 21,
   "metadata": {},
   "outputs": [
    {
     "name": "stdout",
     "output_type": "stream",
     "text": [
      "The word 'winston' and its variations appear 16 times in total.\n"
     ]
    }
   ],
   "source": [
    "# 이 방법은 대소문자를 구분하지 않고 정확히 \"winston\"이라는 단어의 등장 횟수만을 셉니다. \n",
    "# 만약 \"Winston's\"나 \"Winston.\"과 같이 변형된 형태도 포함하고 싶다면, 정규 표현식을 사용하는 것이 좋습니다. \n",
    "# 그 경우 코드는 다음과 같이 변경될 수 있습니다:\n",
    "\n",
    "# \"winston\"으로 시작하는 모든 단어를 찾습니다 \n",
    "# (예: winston, winston's, winston에게 등). 필요에 따라 정규 표현식을 조정할 수 있습니다.\n",
    "import re\n",
    "\n",
    "word_to_find = \"winston\"\n",
    "word_count = sum(len(re.findall(r'\\b' + word_to_find + r'\\w*\\b', doc.page_content.lower())) for doc in results)\n",
    "print(f\"The word '{word_to_find}' and its variations appear {word_count} times in total.\")"
   ]
  },
  {
   "cell_type": "code",
   "execution_count": 30,
   "metadata": {},
   "outputs": [
    {
     "data": {
      "text/plain": [
       "\"Winston lives in a flat in a building. The text doesn't specify the exact location or address of his residence.\""
      ]
     },
     "execution_count": 30,
     "metadata": {},
     "output_type": "execute_result"
    }
   ],
   "source": [
    "# Chroma 는 vector store. 개인 컴퓨터에서 벡터 저장 -> FAISS 로 변경 가능 (기존 캐시 삭제)\n",
    "from langchain.chat_models import ChatOpenAI\n",
    "from langchain.document_loaders import UnstructuredFileLoader\n",
    "from langchain.text_splitter import CharacterTextSplitter\n",
    "from langchain.embeddings import OpenAIEmbeddings, CacheBackedEmbeddings\n",
    "from langchain.vectorstores import Chroma\n",
    "from langchain.storage import LocalFileStore\n",
    "from langchain.chains import RetrievalQA\n",
    "\n",
    "llm = ChatOpenAI()\n",
    "\n",
    "cache_dir = LocalFileStore(\"./.cache/\")\n",
    "\n",
    "\n",
    "splitter = CharacterTextSplitter.from_tiktoken_encoder(\n",
    "    separator=\"\\n\",\n",
    "    chunk_size=600,\n",
    "    chunk_overlap=100,\n",
    ")\n",
    "loader = UnstructuredFileLoader(\"./rag_data/chapter_one.pdf\")\n",
    "\n",
    "docs = loader.load_and_split(text_splitter=splitter)\n",
    "\n",
    "embeddings = OpenAIEmbeddings()\n",
    "\n",
    "cached_embeddings = CacheBackedEmbeddings.from_bytes_store(embeddings, cache_dir)\n",
    "\n",
    "vectorstore = Chroma.from_documents(docs, cached_embeddings)\n",
    "\n",
    "chain = RetrievalQA.from_chain_type(\n",
    "\tllm=llm,\n",
    "\tchain_type=\"stuff\",\n",
    "\tretriever=vectorstore.as_retriever(),\n",
    ")\n",
    "\n",
    "chain.run(\"Where Mensions does Winsthon live?\")"
   ]
  },
  {
   "cell_type": "code",
   "execution_count": 32,
   "metadata": {},
   "outputs": [
    {
     "data": {
      "text/plain": [
       "'Winston lives in Victory Mansions, which are located in London, the chief city of Airstrip One, one of the provinces of Oceania.'"
      ]
     },
     "execution_count": 32,
     "metadata": {},
     "output_type": "execute_result"
    }
   ],
   "source": [
    "# Lnagchain - Summarization - Refine / stuff\n",
    "# Chroma 대신 --> FAISS 로 변경\n",
    "from langchain.chat_models import ChatOpenAI\n",
    "from langchain.document_loaders import UnstructuredFileLoader\n",
    "from langchain.text_splitter import CharacterTextSplitter\n",
    "from langchain.embeddings import OpenAIEmbeddings, CacheBackedEmbeddings\n",
    "from langchain.vectorstores import FAISS\n",
    "from langchain.storage import LocalFileStore\n",
    "from langchain.chains import RetrievalQA\n",
    "\n",
    "llm = ChatOpenAI()\n",
    "\n",
    "cache_dir = LocalFileStore(\"./.cache/\")\n",
    "\n",
    "\n",
    "splitter = CharacterTextSplitter.from_tiktoken_encoder(\n",
    "    separator=\"\\n\",\n",
    "    chunk_size=600,\n",
    "    chunk_overlap=100,\n",
    ")\n",
    "loader = UnstructuredFileLoader(\"./rag_data/chapter_one.pdf\")\n",
    "\n",
    "docs = loader.load_and_split(text_splitter=splitter)\n",
    "\n",
    "embeddings = OpenAIEmbeddings()\n",
    "\n",
    "cached_embeddings = CacheBackedEmbeddings.from_bytes_store(embeddings, cache_dir)\n",
    "\n",
    "vectorstore = FAISS.from_documents(docs, cached_embeddings)\n",
    "\n",
    "chain = RetrievalQA.from_chain_type(\n",
    "\tllm=llm,\n",
    "\tchain_type=\"stuff\", \n",
    "\tretriever=vectorstore.as_retriever(),\n",
    ")\n",
    "\n",
    "chain.run(\"Where does Winsthon live?\")"
   ]
  },
  {
   "cell_type": "code",
   "execution_count": 33,
   "metadata": {},
   "outputs": [
    {
     "data": {
      "text/plain": [
       "'Winston lives in Victory Mansions, a building in London, which is the chief city of Airstrip One, the third most populous province of Oceania in George Orwell\\'s novel \"1984.\"'"
      ]
     },
     "execution_count": 33,
     "metadata": {},
     "output_type": "execute_result"
    }
   ],
   "source": [
    "# Lnagchain - Summarization - chain_type=\"map_reduce\"\n",
    "from langchain.chat_models import ChatOpenAI\n",
    "from langchain.document_loaders import UnstructuredFileLoader\n",
    "from langchain.text_splitter import CharacterTextSplitter\n",
    "from langchain.embeddings import OpenAIEmbeddings, CacheBackedEmbeddings\n",
    "from langchain.vectorstores import FAISS\n",
    "from langchain.storage import LocalFileStore\n",
    "from langchain.chains import RetrievalQA\n",
    "\n",
    "llm = ChatOpenAI()\n",
    "\n",
    "cache_dir = LocalFileStore(\"./.cache/\")\n",
    "\n",
    "\n",
    "splitter = CharacterTextSplitter.from_tiktoken_encoder(\n",
    "    separator=\"\\n\",\n",
    "    chunk_size=600,\n",
    "    chunk_overlap=100,\n",
    ")\n",
    "loader = UnstructuredFileLoader(\"./rag_data/chapter_one.pdf\")\n",
    "\n",
    "docs = loader.load_and_split(text_splitter=splitter)\n",
    "\n",
    "embeddings = OpenAIEmbeddings()\n",
    "\n",
    "cached_embeddings = CacheBackedEmbeddings.from_bytes_store(embeddings, cache_dir)\n",
    "\n",
    "vectorstore = FAISS.from_documents(docs, cached_embeddings)\n",
    "\n",
    "chain = RetrievalQA.from_chain_type(\n",
    "\tllm=llm,\n",
    "\tchain_type=\"map_reduce\", \n",
    "\tretriever=vectorstore.as_retriever(),\n",
    ")\n",
    "\n",
    "chain.run(\"Where does Winsthon live?\")"
   ]
  },
  {
   "cell_type": "code",
   "execution_count": null,
   "metadata": {},
   "outputs": [],
   "source": [
    "# Lnagchain - Summarization - chain_type=\"map_rerank\"\n",
    "from langchain.chat_models import ChatOpenAI\n",
    "from langchain.document_loaders import UnstructuredFileLoader\n",
    "from langchain.text_splitter import CharacterTextSplitter\n",
    "from langchain.embeddings import OpenAIEmbeddings, CacheBackedEmbeddings\n",
    "from langchain.vectorstores import FAISS\n",
    "from langchain.storage import LocalFileStore\n",
    "from langchain.chains import RetrievalQA\n",
    "\n",
    "llm = ChatOpenAI()\n",
    "\n",
    "cache_dir = LocalFileStore(\"./.cache/\")\n",
    "\n",
    "\n",
    "splitter = CharacterTextSplitter.from_tiktoken_encoder(\n",
    "    separator=\"\\n\",\n",
    "    chunk_size=600,\n",
    "    chunk_overlap=100,\n",
    ")\n",
    "loader = UnstructuredFileLoader(\"./rag_data/chapter_one.pdf\")\n",
    "\n",
    "docs = loader.load_and_split(text_splitter=splitter)\n",
    "\n",
    "embeddings = OpenAIEmbeddings()\n",
    "\n",
    "cached_embeddings = CacheBackedEmbeddings.from_bytes_store(embeddings, cache_dir)\n",
    "\n",
    "vectorstore = FAISS.from_documents(docs, cached_embeddings)\n",
    "\n",
    "chain = RetrievalQA.from_chain_type(\n",
    "\tllm=llm,\n",
    "\tchain_type=\"map_rerank\", \n",
    "\tretriever=vectorstore.as_retriever(),\n",
    ")\n",
    "\n",
    "chain.run(\"Where does Winsthon live?\")"
   ]
  }
 ],
 "metadata": {
  "kernelspec": {
   "display_name": "env",
   "language": "python",
   "name": "python3"
  },
  "language_info": {
   "codemirror_mode": {
    "name": "ipython",
    "version": 3
   },
   "file_extension": ".py",
   "mimetype": "text/x-python",
   "name": "python",
   "nbconvert_exporter": "python",
   "pygments_lexer": "ipython3",
   "version": "3.11.9"
  }
 },
 "nbformat": 4,
 "nbformat_minor": 2
}
