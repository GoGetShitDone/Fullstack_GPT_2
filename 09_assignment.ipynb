{
 "cells": [
  {
   "cell_type": "code",
   "execution_count": 5,
   "metadata": {},
   "outputs": [
    {
     "name": "stdout",
     "output_type": "stream",
     "text": [
      "content='🍏💻📱'\n",
      "content='💰📉📈'\n",
      "content='🐯🍃🙇'\n"
     ]
    }
   ],
   "source": [
    "# 과제 ver_02 | example 추가 | 히스토리 검색\n",
    "from langchain.memory import ConversationSummaryBufferMemory\n",
    "from langchain.chat_models import ChatOpenAI\n",
    "from langchain.schema.runnable import RunnablePassthrough\n",
    "from langchain.prompts import ChatPromptTemplate, MessagesPlaceholder\n",
    "from langchain.prompts.few_shot import FewShotChatMessagePromptTemplate\n",
    "\n",
    "llm = ChatOpenAI(temperature=1) # 창의력을 높이기 위해 적정 값 1 적용\n",
    "\n",
    "memory = ConversationSummaryBufferMemory(\n",
    "    llm=llm,\n",
    "    max_token_limit=120, \n",
    "    return_messages=True,\n",
    ")\n",
    "\n",
    "examples = ([\n",
    "    {\"question\" : \"매트릭스\", \"answer\":\"💊💻🕶️\"},\n",
    "    {\"question\" : \"트랜스포머\", \"answer\":\"🚗🔧🤖\"},\n",
    "    {\"question\" : \"라이언일병구하기\", \"answer\":\"🦁🫡🛡️\"},\n",
    "])\n",
    "\n",
    "example_prompt = ChatPromptTemplate.from_messages(\n",
    "    [\n",
    "        (\"human\", \"{question}?\"),\n",
    "        (\"ai\", \"{answer}\"),\n",
    "    ]\n",
    ")\n",
    "\n",
    "example_prompt = FewShotChatMessagePromptTemplate(\n",
    "    example_prompt=example_prompt,\n",
    "    examples=examples,\n",
    ")\n",
    "\n",
    "prompt = ChatPromptTemplate.from_messages(\n",
    "    [\n",
    "        (\"system\", \"너는 질문에 대한 답변을 이모지 3개만을 활용해서 만들어 낼거야\"),\n",
    "        MessagesPlaceholder(variable_name=\"history\"),  # 메모리 히스토리를 옮겨옴\n",
    "        example_prompt,\n",
    "        (\"human\", \"{question}\"),\n",
    "    ]\n",
    ")\n",
    "\n",
    "def load_memory(_):\n",
    "    return memory.load_memory_variables({})[\"history\"]\n",
    "\n",
    "chain = RunnablePassthrough.assign(history=load_memory) | prompt | llm\n",
    "\n",
    "def invoke_chain(question):\n",
    "    result = chain.invoke({\"question\": question})\n",
    "    memory.save_context(\n",
    "        {\"input\": question},\n",
    "        {\"output\": result.content},\n",
    "    ) \n",
    "    print(result)\n",
    "    \n",
    "\n",
    "invoke_chain(\"스티브잡스\")\n",
    "invoke_chain(\"빅쇼트\")\n",
    "invoke_chain(\"중경삼림\")\t"
   ]
  },
  {
   "cell_type": "code",
   "execution_count": 6,
   "metadata": {},
   "outputs": [
    {
     "name": "stdout",
     "output_type": "stream",
     "text": [
      "[HumanMessage(content='스티브잡스'), AIMessage(content='🍏💻📱'), HumanMessage(content='빅쇼트'), AIMessage(content='💰📉📈'), HumanMessage(content='중경삼림'), AIMessage(content='🐯🍃🙇')]\n"
     ]
    }
   ],
   "source": [
    "print(memory.load_memory_variables({})[\"history\"])"
   ]
  },
  {
   "cell_type": "code",
   "execution_count": 7,
   "metadata": {},
   "outputs": [
    {
     "name": "stdout",
     "output_type": "stream",
     "text": [
      "content='🚗🔥🤖'\n",
      "content='💊💻🕶️'\n",
      "content='🦁🙆\\u200d♂️🛡️'\n",
      "[HumanMessage(content='트랜스포머'), AIMessage(content='🚗🔥🤖'), HumanMessage(content='매트릭스'), AIMessage(content='💊💻🕶️'), HumanMessage(content='라이언일병구하기'), AIMessage(content='🦁🙆\\u200d♂️🛡️')]\n"
     ]
    }
   ],
   "source": [
    "# 과제_ver01\n",
    "from langchain.memory import ConversationSummaryBufferMemory\n",
    "from langchain.chat_models import ChatOpenAI\n",
    "from langchain.schema.runnable import RunnablePassthrough\n",
    "from langchain.prompts import ChatPromptTemplate, MessagesPlaceholder\n",
    "\n",
    "llm = ChatOpenAI(temperature=1) # 창의력을 높이기 위해 적정 값 1 적용\n",
    "\n",
    "memory = ConversationSummaryBufferMemory(\n",
    "    llm=llm,\n",
    "    max_token_limit=120, \n",
    "    return_messages=True,\n",
    ")\n",
    "\n",
    "prompt = ChatPromptTemplate.from_messages(\n",
    "    [\n",
    "        (\"system\", \"너는 질문에 대한 답변을 이모지 3개만을 활용해서 만들어 낼거야\"),\n",
    "        MessagesPlaceholder(variable_name=\"history\"),  # 메모리 히스토리를 옮겨옴\n",
    "        (\"human\", \"{question}\"),\n",
    "    ]\n",
    ")\n",
    "\n",
    "def load_memory(_):\n",
    "    return memory.load_memory_variables({})[\"history\"]\n",
    "\n",
    "chain = RunnablePassthrough.assign(history=load_memory) | prompt | llm\n",
    "\n",
    "def invoke_chain(question):\n",
    "    result = chain.invoke({\"question\": question})\n",
    "    memory.save_context(\n",
    "        {\"input\": question},\n",
    "        {\"output\": result.content},\n",
    "    ) \n",
    "    print(result)\n",
    "    \n",
    "\n",
    "invoke_chain(\"트랜스포머\")\n",
    "invoke_chain(\"매트릭스\")\n",
    "invoke_chain(\"라이언일병구하기\")\t\n",
    "print(memory.load_memory_variables({})[\"history\"])"
   ]
  }
 ],
 "metadata": {
  "kernelspec": {
   "display_name": "env",
   "language": "python",
   "name": "python3"
  },
  "language_info": {
   "codemirror_mode": {
    "name": "ipython",
    "version": 3
   },
   "file_extension": ".py",
   "mimetype": "text/x-python",
   "name": "python",
   "nbconvert_exporter": "python",
   "pygments_lexer": "ipython3",
   "version": "3.11.9"
  }
 },
 "nbformat": 4,
 "nbformat_minor": 2
}
