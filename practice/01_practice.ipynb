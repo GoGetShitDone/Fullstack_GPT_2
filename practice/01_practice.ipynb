{
 "cells": [
  {
   "cell_type": "code",
   "execution_count": 1,
   "metadata": {},
   "outputs": [
    {
     "name": "stderr",
     "output_type": "stream",
     "text": [
      "/Users/genesisblock/Desktop/Fullstack-GPT(ver02)/env/lib/python3.11/site-packages/langchain/llms/openai.py:216: UserWarning: You are trying to use a chat model. This way of initializing it is no longer supported. Instead, please use: `from langchain.chat_models import ChatOpenAI`\n",
      "  warnings.warn(\n",
      "/Users/genesisblock/Desktop/Fullstack-GPT(ver02)/env/lib/python3.11/site-packages/langchain/llms/openai.py:811: UserWarning: You are trying to use a chat model. This way of initializing it is no longer supported. Instead, please use: `from langchain.chat_models import ChatOpenAI`\n",
      "  warnings.warn(\n"
     ]
    },
    {
     "data": {
      "text/plain": [
       "('There are 8 planets in our solar system.',\n",
       " 'As of current knowledge, there are 8 planets in our solar system.')"
      ]
     },
     "execution_count": 1,
     "metadata": {},
     "output_type": "execute_result"
    }
   ],
   "source": [
    "from langchain.llms.openai import OpenAI\n",
    "from langchain.chat_models import ChatOpenAI\n",
    "\n",
    "llm = OpenAI(model_name=\"gpt-4\") \n",
    "chat = ChatOpenAI(model_name=\"gpt-4\") \n",
    "\n",
    "a = llm.predict(\"How many planets are there?\")\n",
    "b = chat.predict(\"How many planets are there?\")\n",
    "\n",
    "a, b\n"
   ]
  },
  {
   "cell_type": "code",
   "execution_count": 2,
   "metadata": {},
   "outputs": [
    {
     "name": "stderr",
     "output_type": "stream",
     "text": [
      "/Users/genesisblock/Desktop/Fullstack-GPT(ver02)/env/lib/python3.11/site-packages/langchain/llms/openai.py:216: UserWarning: You are trying to use a chat model. This way of initializing it is no longer supported. Instead, please use: `from langchain.chat_models import ChatOpenAI`\n",
      "  warnings.warn(\n",
      "/Users/genesisblock/Desktop/Fullstack-GPT(ver02)/env/lib/python3.11/site-packages/langchain/llms/openai.py:811: UserWarning: You are trying to use a chat model. This way of initializing it is no longer supported. Instead, please use: `from langchain.chat_models import ChatOpenAI`\n",
      "  warnings.warn(\n"
     ]
    },
    {
     "data": {
      "text/plain": [
       "'There are eight recognized planets in our solar system. These are Mercury, Venus, Earth, Mars, Jupiter, Saturn, Uranus, and Neptune. Pluto, previously considered the ninth planet, was reclassified as a \"dwarf planet\" by the International Astronomical Union in 2006. Here is a brief description of each planet:\\n\\n1. Mercury: It\\'s the smallest planet and the closest to the sun.\\n2. Venus: This planet is similar to Earth in size but has a very thick atmosphere which traps heat, making it the hottest planet in our solar system.\\n3. Earth: The third planet from the sun, home to a variety of life forms and is unique in having liquid water on its surface.\\n4. Mars: Known as the \\'red planet\\' due to its reddish appearance, caused by iron oxide on its surface.\\n5. Jupiter: The largest planet in our solar system, a gas giant known for its prominent \\'Great Red Spot\\', a storm that has been swirling for centuries.\\n6. Saturn: This planet is famous for its ring system and has at least 62 moons.\\n7. Uranus: A blue gas giant, tilted on its side making it unique in the solar system.\\n8. Neptune: The farthest known planet from the sun, another blue gas giant, with powerful, dark storms.\\n\\nHowever, beyond our solar system, astronomers continue to discover new planets orbiting other stars. As of 2021, over 4,000 such exoplanets have been confirmed.'"
      ]
     },
     "execution_count": 2,
     "metadata": {},
     "output_type": "execute_result"
    }
   ],
   "source": [
    "from langchain.llms.openai import OpenAI\n",
    "\n",
    "llm = OpenAI(model_name=\"gpt-4\") \n",
    "\n",
    "a = llm.predict(\"How many planets are there? and explain!\")\n",
    "\n",
    "a\n"
   ]
  },
  {
   "cell_type": "code",
   "execution_count": 3,
   "metadata": {},
   "outputs": [
    {
     "data": {
      "text/plain": [
       "'There are eight recognized planets in the solar system. They are, in order from the sun: Mercury, Venus, Earth, Mars, Jupiter, Saturn, Uranus, and Neptune. \\n\\nThese planets are recognized by the International Astronomical Union, the organization responsible for classifying celestial bodies. \\n\\nMercury, Venus, Earth and Mars are classified as terrestrial planets as they have solid rocky surfaces. \\n\\nJupiter and Saturn are gas giants, primarily composed of hydrogen and helium. \\n\\nUranus and Neptune are ice giants, primarily composed of substances with relatively high melting points compared to hydrogen and helium, called volatiles, such as water, ammonia and methane. \\n\\nPluto was considered the ninth planet until 2006 when the International Astronomical Union redefined it as a \"dwarf planet,\" a new category for objects that are round and orbit the sun but have not cleared their orbit of other debris. \\n\\nIn addition to these, there are thousands of exoplanets - planets orbiting stars outside our solar system. However, their exact number is not known and is constantly changing as new ones are discovered.'"
      ]
     },
     "execution_count": 3,
     "metadata": {},
     "output_type": "execute_result"
    }
   ],
   "source": [
    "from langchain.chat_models import ChatOpenAI\n",
    "\n",
    "chat = ChatOpenAI(model_name=\"gpt-4\") \n",
    "\n",
    "b = chat.predict(\"How many planets are there? and explain!\")\n",
    "\n",
    "b\n"
   ]
  },
  {
   "cell_type": "code",
   "execution_count": 4,
   "metadata": {},
   "outputs": [
    {
     "data": {
      "text/plain": [
       "('There are eight recognized planets in our solar system. These are Mercury, Venus, Earth, Mars, Jupiter, Saturn, Uranus, and Neptune. Pluto, previously considered the ninth planet, was reclassified as a \"dwarf planet\" by the International Astronomical Union in 2006. Here is a brief description of each planet:\\n\\n1. Mercury: It\\'s the smallest planet and the closest to the sun.\\n2. Venus: This planet is similar to Earth in size but has a very thick atmosphere which traps heat, making it the hottest planet in our solar system.\\n3. Earth: The third planet from the sun, home to a variety of life forms and is unique in having liquid water on its surface.\\n4. Mars: Known as the \\'red planet\\' due to its reddish appearance, caused by iron oxide on its surface.\\n5. Jupiter: The largest planet in our solar system, a gas giant known for its prominent \\'Great Red Spot\\', a storm that has been swirling for centuries.\\n6. Saturn: This planet is famous for its ring system and has at least 62 moons.\\n7. Uranus: A blue gas giant, tilted on its side making it unique in the solar system.\\n8. Neptune: The farthest known planet from the sun, another blue gas giant, with powerful, dark storms.\\n\\nHowever, beyond our solar system, astronomers continue to discover new planets orbiting other stars. As of 2021, over 4,000 such exoplanets have been confirmed.',\n",
       " 'There are eight recognized planets in the solar system. They are, in order from the sun: Mercury, Venus, Earth, Mars, Jupiter, Saturn, Uranus, and Neptune. \\n\\nThese planets are recognized by the International Astronomical Union, the organization responsible for classifying celestial bodies. \\n\\nMercury, Venus, Earth and Mars are classified as terrestrial planets as they have solid rocky surfaces. \\n\\nJupiter and Saturn are gas giants, primarily composed of hydrogen and helium. \\n\\nUranus and Neptune are ice giants, primarily composed of substances with relatively high melting points compared to hydrogen and helium, called volatiles, such as water, ammonia and methane. \\n\\nPluto was considered the ninth planet until 2006 when the International Astronomical Union redefined it as a \"dwarf planet,\" a new category for objects that are round and orbit the sun but have not cleared their orbit of other debris. \\n\\nIn addition to these, there are thousands of exoplanets - planets orbiting stars outside our solar system. However, their exact number is not known and is constantly changing as new ones are discovered.')"
      ]
     },
     "execution_count": 4,
     "metadata": {},
     "output_type": "execute_result"
    }
   ],
   "source": [
    "a, b"
   ]
  },
  {
   "cell_type": "code",
   "execution_count": 19,
   "metadata": {},
   "outputs": [
    {
     "data": {
      "text/plain": [
       "AIMessage(content=\"인류 문명의 발상지를 지질학적 관점에서 이야기하기는 많이 복잡한데요. 문명이 시작된 곳은 여러 요인들이 복합적으로 작용한 결과입니다. 예를 들어, 기후, 지형, 토양, 물 자원 등의 자연적인 요인과 그런 자원들을 이용할 수 있는 인류의 기술적, 사회적 능력 등이 함께 작용하게 됩니다.\\n\\n그래도 일반적으로 문명의 발상지로는 중동 지역의 '메소포타미아'를 꼽는 경우가 많습니다. 이 지역은 농업이 가능한 충분한 물 자원과 기후, 그리고 주변에 비교적 평탄한 지형을 가지고 있어 초기 인류가 생존하고, 집단을 이루며 정착하는 데 적합한 조건이 있었습니다.\\n\\n그럼 제 이름에 대해 알려 드릴께요. 저의 이름은 Open\")"
      ]
     },
     "execution_count": 19,
     "metadata": {},
     "output_type": "execute_result"
    }
   ],
   "source": [
    "from langchain.chat_models import ChatOpenAI\n",
    "from langchain.schema import HumanMessage, AIMessage, SystemMessage\n",
    "\n",
    "chat = ChatOpenAI(\n",
    "    max_tokens=300,\n",
    "    temperature=1,\n",
    "    model_name=\"gpt-4\",\n",
    ")\n",
    "\n",
    "messages = [\n",
    "    SystemMessage(content=\"너는 지질학 전문가야. 그리고 한국어로 답할거야.\",),\n",
    "    AIMessage(content=\"안녕! 나는 지질학 박사 최디아나야.\",),\n",
    "    HumanMessage(content=\"지질학적인 식견에서 전세계 인류 문명의 발상지는 어디야? 그리고 너의 이름은 뭐야??\",),\n",
    "]\n",
    "\n",
    "chat.predict_messages(messages)"
   ]
  },
  {
   "cell_type": "markdown",
   "metadata": {},
   "source": []
  },
  {
   "cell_type": "code",
   "execution_count": null,
   "metadata": {},
   "outputs": [],
   "source": [
    "from langchain.chat_models import ChatOpenAI\n",
    "from langchain.schema import HumanMessage, AIMessage, SystemMessage\n",
    "\n",
    "chat = ChatOpenAI(\n",
    "    max_tokens=300,\n",
    "    temperature=1,\n",
    "    model_name=\"gpt-4\",\n",
    ")\n",
    "\n",
    "messages = [\n",
    "    SystemMessage(content=\"너는 지질학 전문가야. 그리고 한국어로 답할거야.\",),\n",
    "    AIMessage(content=\"안녕! 나는 지질학 박사 최디아나야.\",),\n",
    "    HumanMessage(content=\"지질학적인 식견에서 전세계 인류 문명의 발상지는 어디야? 그리고 너의 이름은 뭐야??\",),\n",
    "]\n",
    "\n",
    "chat.predict_messages(messages)"
   ]
  },
  {
   "cell_type": "code",
   "execution_count": 20,
   "metadata": {},
   "outputs": [
    {
     "data": {
      "text/plain": [
       "'멕시코와 한국은 직선 거리로 약 10,800km 정도 떨어져 있습니다. 하지만 실제 항공편 거리는 보통 11,000km 이상인 경우가 많습니다. 이은 비행 시간은 대략 14~16시간 정도로 계산됩니다. 다만, 비행로 및 항공사에 따라서 시간이 조금씩 달라질 수 있습니다.'"
      ]
     },
     "execution_count": 20,
     "metadata": {},
     "output_type": "execute_result"
    }
   ],
   "source": [
    "from langchain.chat_models import ChatOpenAI\n",
    "from langchain.prompts import PromptTemplate, ChatPromptTemplate\n",
    "\n",
    "chat = ChatOpenAI(\n",
    "    max_tokens=300,\n",
    "    temperature=1,\n",
    "    model_name=\"gpt-4\",\n",
    ")\n",
    "\n",
    "template = PromptTemplate.from_template(\n",
    "    \"{country_a}나라와 {country_b}나라 사이의 거리는 얼마나돼?\",\n",
    ")\n",
    "\n",
    "prompt = template.format(country_a = \"Mexico\", country_b = \"Korea\")\n",
    "\n",
    "chat.predict(prompt)"
   ]
  },
  {
   "cell_type": "code",
   "execution_count": 27,
   "metadata": {},
   "outputs": [
    {
     "data": {
      "text/plain": [
       "AIMessage(content='Λυπάμαι, αλλά δεν μπορώ να σας δώσω μια ακριβή απόσταση επειδή αυτό εξαρτάται από το σημείο εκκίνησης και τον προορισμό στη Μεξικό και τη Γαλλία. Ωστόσο, αν συγκρίνουμε τις πρωτεύουσες της Μεξικό, Πόλη του Μεξικού, και της Γαλλίας, Παρίσι, η απόσταση είναι περίπου 9.140 χιλιόμετρα.\\n')"
      ]
     },
     "execution_count": 27,
     "metadata": {},
     "output_type": "execute_result"
    }
   ],
   "source": [
    "from langchain.chat_models import ChatOpenAI\n",
    "from langchain.prompts import PromptTemplate, ChatPromptTemplate\n",
    "\n",
    "chat = ChatOpenAI(\n",
    "    max_tokens=300,\n",
    "    temperature=1,\n",
    "    model_name=\"gpt-4\",\n",
    ")\n",
    "\n",
    "template = ChatPromptTemplate.from_messages([\n",
    "    (\"system\",\"너는 지질학 전문가야. 그리고 {languege}로 답할거야.\"),\n",
    "    (\"ai\", \"Hello! I'm {name}!\"),\n",
    "    (\"human\",\"{country_a}나라와 {country_b}나라 사이의 거리는 얼마나돼?\"),\n",
    "])\n",
    "\n",
    "prompt = template.format_messages(\n",
    "    languege = \"Greek\",\n",
    "    name = \"David\",\n",
    "    country_a = \"Mexico\",\n",
    "    country_b = \"France\",\n",
    ")\n",
    "\n",
    "chat.predict_messages(prompt)"
   ]
  }
 ],
 "metadata": {
  "kernelspec": {
   "display_name": "env",
   "language": "python",
   "name": "python3"
  },
  "language_info": {
   "codemirror_mode": {
    "name": "ipython",
    "version": 3
   },
   "file_extension": ".py",
   "mimetype": "text/x-python",
   "name": "python",
   "nbconvert_exporter": "python",
   "pygments_lexer": "ipython3",
   "version": "3.11.9"
  }
 },
 "nbformat": 4,
 "nbformat_minor": 2
}
