{
 "cells": [
  {
   "cell_type": "code",
   "execution_count": 26,
   "metadata": {},
   "outputs": [],
   "source": [
    "from langchain.chat_models import ChatOpenAI\n",
    "from langchain.prompts import ChatPromptTemplate\n",
    "from langchain.callbacks import StreamingStdOutCallbackHandler\n",
    "\n",
    "\n",
    "chat = ChatOpenAI(\n",
    "    temperature=1, \n",
    "    model_name = \"gpt-4\",\n",
    "    streaming=True, \n",
    "    callbacks=[StreamingStdOutCallbackHandler(),],)\n"
   ]
  },
  {
   "cell_type": "code",
   "execution_count": 27,
   "metadata": {},
   "outputs": [],
   "source": [
    "poet_prompt = ChatPromptTemplate.from_messages(\n",
    "    [\n",
    "        (\"system\", \"너는 컴퓨터 프로그래머이자 시인이야. 프로그래밍 언어를 활용하면서 시를 만드는데 천재적인 능력을 지녔어\",),\n",
    "        (\"human\", \"{prgrm_lang} 언어를 활용해서 {topic}을 주제로한 시를 만들어줘. 중간중간 {prgrm_lang} 언어를가 포함될 수 있도록 만들어.\",),\n",
    "    ]\n",
    ")\n",
    "\n",
    "poet_chain = poet_prompt | chat"
   ]
  },
  {
   "cell_type": "code",
   "execution_count": 28,
   "metadata": {},
   "outputs": [],
   "source": [
    "critic_prompt = ChatPromptTemplate.from_messages(\n",
    "    [\n",
    "        (\n",
    "            \"system\", \"시를 분석하고 해석하며 설명하는데 최적화된 평론가야. 게다가 컴퓨터 공학적 지식이 있기에 독특한 시각으로 시를 분석할 수 있어\",\n",
    "        ),\n",
    "        (\"human\", \"{review} 작품의 평론을 작성해줘\"),\n",
    "    ]\n",
    ")\n",
    "\n",
    "critic_chain = critic_prompt | chat"
   ]
  },
  {
   "cell_type": "code",
   "execution_count": 29,
   "metadata": {},
   "outputs": [
    {
     "name": "stdout",
     "output_type": "stream",
     "text": [
      "제목: '소스 코드로 그리는 성공의 시'\n",
      "\n",
      "try:  \n",
      "    꿈 = 'Success'  \n",
      "    while True: \n",
      "        # Morning sun brings a new day\n",
      "        빛나는_해는 = '새로운 시작을 알립니다.'\n",
      "\n",
      "        # The blank IDE before, now with codes string\n",
      "        코드의_행렬 = '가득 차올라 이곳에 열정을 키워냅니다.' \n",
      "\n",
      "        # Errors are not fear\n",
      "        if '오류' in 꿈: \n",
      "            꿈 = '오류를 고쳐나가는 과정입니다.'\n",
      "            # As we debug and rewrite\n",
      "            print('수정하고 교정하며, 성공으로 나아갑니다.')\n",
      "\n",
      "        # The result we see, success thus\n",
      "        else:\n",
      "            # As our code compiles perfect\n",
      "            꿈 = '우아하게 컴파일된 꿈입니다.'\n",
      "            print('그렇다, 성공이란 바로 이것이지.')\n",
      "            break\n",
      "\n",
      "    print('나의 결과는... ' + 꿈)\n",
      "\n",
      "except:\n",
      "    # When all ways seem blocked\n",
      "    print('가는 길이 막혔다면, 절망하지 말아요.')\n",
      "\n",
      "finally:  \n",
      "    print('새로운 코드로 싹을 틔우면, 성공의 길로 가는 길이 다시 열릴 거에요.')\n",
      "\n",
      "# As coders, we etch our path to success\n",
      "# With Python scripts line by line\n",
      "# In the theatre of logic, our silent play\n",
      "# Our victory, our achievement, imprinted in time.\"소스 코드로 그리는 성공의 시\"는 시, 이야기, 그리고 컴퓨터 공학을 결합하여 서로 완벽하게 엮어준다. 이 시는 프로그래밍과 인생을 비유적으로 연결하며, 프로그래머의 삶과 경험, 그리고 그들이 겪는 평범한 사건들로 일상을 미시적으로 보여준다. \n",
      "\n",
      "시가 갖고 있는 코드의 전반부는 매일의 시작을 알리는 아침 해와 프로그래밍 세상의 초기 빈 상태를 보여준다 심지어 잠재적인 오류조차도 강조되지만, 그것은 부정적으로 가리키는 것이 아닌, 성장과 개선의 기회로서 받아들여진다. 실수와 적응은 단지 새로운 성공으로 이어지는 경험의 일부이며, 그런 시도와 실험을 통해 완벽한 결과, 혹은 '성공'이 탄생한다는 점을 시적으로 보여준다.\n",
      "\n",
      "\"except\" 블럭에서 강조하는 것은 진행중인 프로젝트에서 예상치 못한 오류를 맞닥뜨릴 때의 심리적인 반응이다. 그러나 이 시는 주인공에게 포기하지 말 것을 권고한다. 따라서 이 시는 개발자의 순간을 불굴의 정신과 의지의 힘으로 표현한다.\n",
      "\n",
      "마지막 부분에서는 명확하게 Pyhton과 관련하여 다시 수사술로 돌아가며, 성공으로 가는 길을 조각하고, 그것이 시간에 새겨진 업적이라는 점을 재차 강조한다.\n",
      "\n",
      "\n",
      "본 시는 이해하기 어렵고 접근하기 힘든 주제인 프로그래밍을 일상적이고 인간적인 시각으로 바라보며, 독자들로 하여금 컴퓨터 공학이라는 분야에 더욱 친숙하게 다가갈 수 있는 기회를 제공한다. 이 시는 사람에 대한 이야기이며 그들이 창조하고, 실패하고, 더 높은 성취를 위해 다시 도전하는 과정을 애니메이션처럼 보여준다. 이 시는 우리의 삶이 코드와 어떻게 연결되어 있는지를 설명함으로서, 그 과정으로 인해 우리 자신을 더 잘 이해할 수 있다는 메세지를 보여준다."
     ]
    },
    {
     "data": {
      "text/plain": [
       "AIMessageChunk(content='\"소스 코드로 그리는 성공의 시\"는 시, 이야기, 그리고 컴퓨터 공학을 결합하여 서로 완벽하게 엮어준다. 이 시는 프로그래밍과 인생을 비유적으로 연결하며, 프로그래머의 삶과 경험, 그리고 그들이 겪는 평범한 사건들로 일상을 미시적으로 보여준다. \\n\\n시가 갖고 있는 코드의 전반부는 매일의 시작을 알리는 아침 해와 프로그래밍 세상의 초기 빈 상태를 보여준다 심지어 잠재적인 오류조차도 강조되지만, 그것은 부정적으로 가리키는 것이 아닌, 성장과 개선의 기회로서 받아들여진다. 실수와 적응은 단지 새로운 성공으로 이어지는 경험의 일부이며, 그런 시도와 실험을 통해 완벽한 결과, 혹은 \\'성공\\'이 탄생한다는 점을 시적으로 보여준다.\\n\\n\"except\" 블럭에서 강조하는 것은 진행중인 프로젝트에서 예상치 못한 오류를 맞닥뜨릴 때의 심리적인 반응이다. 그러나 이 시는 주인공에게 포기하지 말 것을 권고한다. 따라서 이 시는 개발자의 순간을 불굴의 정신과 의지의 힘으로 표현한다.\\n\\n마지막 부분에서는 명확하게 Pyhton과 관련하여 다시 수사술로 돌아가며, 성공으로 가는 길을 조각하고, 그것이 시간에 새겨진 업적이라는 점을 재차 강조한다.\\n\\n\\n본 시는 이해하기 어렵고 접근하기 힘든 주제인 프로그래밍을 일상적이고 인간적인 시각으로 바라보며, 독자들로 하여금 컴퓨터 공학이라는 분야에 더욱 친숙하게 다가갈 수 있는 기회를 제공한다. 이 시는 사람에 대한 이야기이며 그들이 창조하고, 실패하고, 더 높은 성취를 위해 다시 도전하는 과정을 애니메이션처럼 보여준다. 이 시는 우리의 삶이 코드와 어떻게 연결되어 있는지를 설명함으로서, 그 과정으로 인해 우리 자신을 더 잘 이해할 수 있다는 메세지를 보여준다.')"
      ]
     },
     "execution_count": 29,
     "metadata": {},
     "output_type": "execute_result"
    }
   ],
   "source": [
    "final_chain = {\"review\":poet_chain} | critic_chain\n",
    "\n",
    "final_chain.invoke({\"prgrm_lang\" : \"python\", \"topic\" : \"성공\"})"
   ]
  }
 ],
 "metadata": {
  "kernelspec": {
   "display_name": "env",
   "language": "python",
   "name": "python3"
  },
  "language_info": {
   "codemirror_mode": {
    "name": "ipython",
    "version": 3
   },
   "file_extension": ".py",
   "mimetype": "text/x-python",
   "name": "python",
   "nbconvert_exporter": "python",
   "pygments_lexer": "ipython3",
   "version": "3.11.9"
  }
 },
 "nbformat": 4,
 "nbformat_minor": 2
}
