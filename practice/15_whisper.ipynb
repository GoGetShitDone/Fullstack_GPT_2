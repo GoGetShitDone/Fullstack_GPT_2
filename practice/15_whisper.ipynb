{
 "cells": [
  {
   "cell_type": "code",
   "execution_count": 32,
   "metadata": {},
   "outputs": [],
   "source": [
    "# ffmpeg\n",
    "# brew install ffmpeg\n",
    "# ffmpeg를 활용해서 영상을 제외하고(-vn) 음성만 추출하는 터미널 명령어\n",
    "# ffmpeg -i practice/rag_data/potcast.mp4 -vn practice/rag_data/potcast.mp3   \n",
    "# import subprocess => 터미널 명령어를 실행시켜줌\n",
    "\n",
    "# pydub\n",
    "# pip install pydub\n",
    "# 영상 및 오디오를 컨트롤 하는 pydub 패키지! \n",
    "# https://github.com/jiaaro/pydub/blob/master/API.markdown\n",
    "\n",
    "import subprocess\n",
    "import math\n",
    "from pydub import AudioSegment\n",
    "\n",
    "def extract_audio_form_video(video_path, audio_path):\n",
    "\tcommand =[\"ffmpeg\", \"-i\", video_path, \"-vn\", audio_path,]\n",
    "\tsubprocess.run(command)\n",
    "\n",
    "def cut_audio_in_chunks(audio_path, chunk_size, chunks_folder):\n",
    "\ttrack = AudioSegment.from_mp3(audio_path)\n",
    "\tchunk_len = chunk_size * 60 * 1000\n",
    "\tchunks = math.ceil(len(track) / chunk_len)\n",
    "\tfor i in range(chunks):\n",
    "\t\tstart_time = i * chunk_len\n",
    "\t\tend_time = (i+1) * chunk_len\n",
    "\t\tchunks = track[start_time:end_time]\n",
    "\t\tchunks.export(f\"{chunks_folder}/chunk_{i}.mp3\", format = \"mp3\")\n",
    "\n",
    "\n",
    "# extract_audio_form_video(\"./rag_data/potcast.mp4\", \"./rag_data/audio.mp3\" ) # 오디오 추출 실행\n",
    "\n",
    "# track = AudioSegment.from_mp3(\"./rag_data/audio.mp3\")\n",
    "\n",
    "# track.duration_seconds -> 영상의 시간(초단위) 확인 : 4422.426122448979\n",
    "\n",
    "# five_minutes = 5 * 60 * 1000 # 기본 단위가 밀리세컨이므로 *1000\n",
    "\n",
    "# ten_minutes = 10 * 60 * 1000"
   ]
  },
  {
   "cell_type": "code",
   "execution_count": 22,
   "metadata": {},
   "outputs": [],
   "source": [
    "cut_audio_in_chunks(\"./rag_data/audio.mp3\", 10, \"./rag_data/chunks\")"
   ]
  },
  {
   "cell_type": "code",
   "execution_count": 10,
   "metadata": {},
   "outputs": [
    {
     "data": {
      "text/plain": [
       "<_io.BufferedRandom name='./rag_data/first_five.mp3'>"
      ]
     },
     "execution_count": 10,
     "metadata": {},
     "output_type": "execute_result"
    }
   ],
   "source": [
    "first_five = track[:five_minutes]\n",
    "\n",
    "first_five.export(\"./rag_data/first_five.mp3\", format=\"mp3\")"
   ]
  },
  {
   "cell_type": "code",
   "execution_count": 20,
   "metadata": {},
   "outputs": [],
   "source": [
    "# len(track) / ten_minutes\n",
    "# 7.37071\n",
    "\n",
    "# math.floor(len(track) / ten_minutes) # 내림\n",
    "\n",
    "# import math\n",
    "\n",
    "# chunks = math.ceil(len(track) / ten_minutes) # 올림\n",
    "\n",
    "# for i in range(chunks):\n",
    "# \tstart_time = i * ten_minutes\n",
    "# \tend_time = (i+1) * ten_minutes\n",
    "# \t# print(f\"start: {start_time}, end:{end_time}\")\n",
    "\n",
    "# \tchunks = track[start_time:end_time]\n",
    "\n",
    "# \tchunks.export(f\"./rag_data/chunks/chumk_{i}.mp3\", format = \"mp3\")\n",
    "\n"
   ]
  },
  {
   "cell_type": "code",
   "execution_count": 34,
   "metadata": {},
   "outputs": [],
   "source": [
    "import openai\n",
    "import glob\n",
    "\n",
    "def transcribe_chunks(chunk_folder, destination):\n",
    "\tfiles = glob.glob(f\"{chunk_folder}/*.mp3\")\n",
    "\tfinal_transcript = \"\"\n",
    "\tfor file in files:\n",
    "\t\twith open(file, \"rb\") as audio_file:\n",
    "\t\t\ttranscript = openai.Audio.transcribe(\"whisper-1\", open(file, \"rb\"),)\n",
    "\t\t\tfinal_transcript += transcript[\"text\"]\n",
    "\twith open(destination, \"w\") as file:\n",
    "\t\tfile.write(final_transcript)\n",
    "\n",
    "transcribe_chunks(\"./rag_data/chunks\", \"./rag_data/chunks/transcript.txt\",)\n",
    "\n",
    "# transcribe_chunks(\"./rag_data/chunks\", \"...\")\n",
    "\n",
    "\n",
    "\n"
   ]
  }
 ],
 "metadata": {
  "kernelspec": {
   "display_name": "env",
   "language": "python",
   "name": "python3"
  },
  "language_info": {
   "codemirror_mode": {
    "name": "ipython",
    "version": 3
   },
   "file_extension": ".py",
   "mimetype": "text/x-python",
   "name": "python",
   "nbconvert_exporter": "python",
   "pygments_lexer": "ipython3",
   "version": "3.11.9"
  }
 },
 "nbformat": 4,
 "nbformat_minor": 2
}
